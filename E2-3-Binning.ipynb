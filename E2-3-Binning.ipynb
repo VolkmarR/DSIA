{
 "nbformat": 4,
 "nbformat_minor": 2,
 "metadata": {
  "language_info": {
   "name": "python",
   "codemirror_mode": {
    "name": "ipython",
    "version": 3
   },
   "version": "3.7.4"
  },
  "orig_nbformat": 2,
  "file_extension": ".py",
  "mimetype": "text/x-python",
  "name": "python",
  "npconvert_exporter": "python",
  "pygments_lexer": "ipython3",
  "version": 3
 },
 "cells": [
  {
   "cell_type": "markdown",
   "execution_count": null,
   "metadata": {},
   "outputs": [],
   "source": [
    "# Binning\n",
    "\n",
    "## Initialisierung"
   ]
  },
  {
   "cell_type": "code",
   "execution_count": 56,
   "metadata": {},
   "outputs": [],
   "source": [
    "import pandas as pd"
   ]
  },
  {
   "cell_type": "code",
   "execution_count": 57,
   "metadata": {},
   "outputs": [],
   "source": [
    "df = pd.DataFrame({\"alter\": [17, 10, 24, 45, 43, 45, 50, 70]})"
   ]
  },
  {
   "cell_type": "markdown",
   "execution_count": null,
   "metadata": {},
   "outputs": [],
   "source": [
    "# Feste Breite"
   ]
  },
  {
   "cell_type": "code",
   "execution_count": 58,
   "metadata": {},
   "outputs": [
    {
     "data": {
      "text/html": "<div>\n<style scoped>\n    .dataframe tbody tr th:only-of-type {\n        vertical-align: middle;\n    }\n\n    .dataframe tbody tr th {\n        vertical-align: top;\n    }\n\n    .dataframe thead th {\n        text-align: right;\n    }\n</style>\n<table border=\"1\" class=\"dataframe\">\n  <thead>\n    <tr style=\"text-align: right;\">\n      <th></th>\n      <th>alter</th>\n      <th>fix_manuell</th>\n    </tr>\n  </thead>\n  <tbody>\n    <tr>\n      <th>0</th>\n      <td>17</td>\n      <td>(0, 20]</td>\n    </tr>\n    <tr>\n      <th>1</th>\n      <td>10</td>\n      <td>(0, 20]</td>\n    </tr>\n    <tr>\n      <th>2</th>\n      <td>24</td>\n      <td>(20, 40]</td>\n    </tr>\n    <tr>\n      <th>3</th>\n      <td>45</td>\n      <td>(40, 60]</td>\n    </tr>\n    <tr>\n      <th>4</th>\n      <td>43</td>\n      <td>(40, 60]</td>\n    </tr>\n    <tr>\n      <th>5</th>\n      <td>45</td>\n      <td>(40, 60]</td>\n    </tr>\n    <tr>\n      <th>6</th>\n      <td>50</td>\n      <td>(40, 60]</td>\n    </tr>\n    <tr>\n      <th>7</th>\n      <td>70</td>\n      <td>(60, 80]</td>\n    </tr>\n  </tbody>\n</table>\n</div>",
      "text/plain": "   alter fix_manuell\n0     17     (0, 20]\n1     10     (0, 20]\n2     24    (20, 40]\n3     45    (40, 60]\n4     43    (40, 60]\n5     45    (40, 60]\n6     50    (40, 60]\n7     70    (60, 80]"
     },
     "execution_count": 58,
     "metadata": {},
     "output_type": "execute_result"
    }
   ],
   "source": [
    "bins = [0,20,40,60,80]\n",
    "df[\"fix_manuell\"] = pd.cut(df.alter, bins=bins)\n",
    "df"
   ]
  },
  {
   "cell_type": "code",
   "execution_count": 59,
   "metadata": {},
   "outputs": [
    {
     "data": {
      "text/html": "<div>\n<style scoped>\n    .dataframe tbody tr th:only-of-type {\n        vertical-align: middle;\n    }\n\n    .dataframe tbody tr th {\n        vertical-align: top;\n    }\n\n    .dataframe thead th {\n        text-align: right;\n    }\n</style>\n<table border=\"1\" class=\"dataframe\">\n  <thead>\n    <tr style=\"text-align: right;\">\n      <th></th>\n      <th>alter</th>\n      <th>fix_manuell</th>\n      <th>fix_auto</th>\n    </tr>\n  </thead>\n  <tbody>\n    <tr>\n      <th>0</th>\n      <td>17</td>\n      <td>(0, 20]</td>\n      <td>(9.94, 25.0]</td>\n    </tr>\n    <tr>\n      <th>1</th>\n      <td>10</td>\n      <td>(0, 20]</td>\n      <td>(9.94, 25.0]</td>\n    </tr>\n    <tr>\n      <th>2</th>\n      <td>24</td>\n      <td>(20, 40]</td>\n      <td>(9.94, 25.0]</td>\n    </tr>\n    <tr>\n      <th>3</th>\n      <td>45</td>\n      <td>(40, 60]</td>\n      <td>(40.0, 55.0]</td>\n    </tr>\n    <tr>\n      <th>4</th>\n      <td>43</td>\n      <td>(40, 60]</td>\n      <td>(40.0, 55.0]</td>\n    </tr>\n    <tr>\n      <th>5</th>\n      <td>45</td>\n      <td>(40, 60]</td>\n      <td>(40.0, 55.0]</td>\n    </tr>\n    <tr>\n      <th>6</th>\n      <td>50</td>\n      <td>(40, 60]</td>\n      <td>(40.0, 55.0]</td>\n    </tr>\n    <tr>\n      <th>7</th>\n      <td>70</td>\n      <td>(60, 80]</td>\n      <td>(55.0, 70.0]</td>\n    </tr>\n  </tbody>\n</table>\n</div>",
      "text/plain": "   alter fix_manuell      fix_auto\n0     17     (0, 20]  (9.94, 25.0]\n1     10     (0, 20]  (9.94, 25.0]\n2     24    (20, 40]  (9.94, 25.0]\n3     45    (40, 60]  (40.0, 55.0]\n4     43    (40, 60]  (40.0, 55.0]\n5     45    (40, 60]  (40.0, 55.0]\n6     50    (40, 60]  (40.0, 55.0]\n7     70    (60, 80]  (55.0, 70.0]"
     },
     "execution_count": 59,
     "metadata": {},
     "output_type": "execute_result"
    }
   ],
   "source": [
    "df[\"fix_auto\"] = pd.cut(df.alter, bins=4)\n",
    "df"
   ]
  },
  {
   "cell_type": "code",
   "execution_count": 60,
   "metadata": {},
   "outputs": [
    {
     "data": {
      "text/html": "<div>\n<style scoped>\n    .dataframe tbody tr th:only-of-type {\n        vertical-align: middle;\n    }\n\n    .dataframe tbody tr th {\n        vertical-align: top;\n    }\n\n    .dataframe thead th {\n        text-align: right;\n    }\n</style>\n<table border=\"1\" class=\"dataframe\">\n  <thead>\n    <tr style=\"text-align: right;\">\n      <th></th>\n      <th>alter</th>\n      <th>fix_manuell</th>\n      <th>fix_auto</th>\n      <th>fix_manuell_label</th>\n      <th>fix_auto_label</th>\n    </tr>\n  </thead>\n  <tbody>\n    <tr>\n      <th>0</th>\n      <td>17</td>\n      <td>(0, 20]</td>\n      <td>(9.94, 25.0]</td>\n      <td>0</td>\n      <td>0</td>\n    </tr>\n    <tr>\n      <th>1</th>\n      <td>10</td>\n      <td>(0, 20]</td>\n      <td>(9.94, 25.0]</td>\n      <td>0</td>\n      <td>0</td>\n    </tr>\n    <tr>\n      <th>2</th>\n      <td>24</td>\n      <td>(20, 40]</td>\n      <td>(9.94, 25.0]</td>\n      <td>1</td>\n      <td>0</td>\n    </tr>\n    <tr>\n      <th>3</th>\n      <td>45</td>\n      <td>(40, 60]</td>\n      <td>(40.0, 55.0]</td>\n      <td>2</td>\n      <td>2</td>\n    </tr>\n    <tr>\n      <th>4</th>\n      <td>43</td>\n      <td>(40, 60]</td>\n      <td>(40.0, 55.0]</td>\n      <td>2</td>\n      <td>2</td>\n    </tr>\n    <tr>\n      <th>5</th>\n      <td>45</td>\n      <td>(40, 60]</td>\n      <td>(40.0, 55.0]</td>\n      <td>2</td>\n      <td>2</td>\n    </tr>\n    <tr>\n      <th>6</th>\n      <td>50</td>\n      <td>(40, 60]</td>\n      <td>(40.0, 55.0]</td>\n      <td>2</td>\n      <td>2</td>\n    </tr>\n    <tr>\n      <th>7</th>\n      <td>70</td>\n      <td>(60, 80]</td>\n      <td>(55.0, 70.0]</td>\n      <td>3</td>\n      <td>3</td>\n    </tr>\n  </tbody>\n</table>\n</div>",
      "text/plain": "   alter fix_manuell      fix_auto  fix_manuell_label  fix_auto_label\n0     17     (0, 20]  (9.94, 25.0]                  0               0\n1     10     (0, 20]  (9.94, 25.0]                  0               0\n2     24    (20, 40]  (9.94, 25.0]                  1               0\n3     45    (40, 60]  (40.0, 55.0]                  2               2\n4     43    (40, 60]  (40.0, 55.0]                  2               2\n5     45    (40, 60]  (40.0, 55.0]                  2               2\n6     50    (40, 60]  (40.0, 55.0]                  2               2\n7     70    (60, 80]  (55.0, 70.0]                  3               3"
     },
     "execution_count": 60,
     "metadata": {},
     "output_type": "execute_result"
    }
   ],
   "source": [
    "df[\"fix_manuell_label\"] = pd.cut(df.alter, bins=bins, labels=False)\n",
    "df[\"fix_auto_label\"] = pd.cut(df.alter, bins=4, labels=False)\n",
    "df"
   ]
  },
  {
   "cell_type": "markdown",
   "execution_count": null,
   "metadata": {},
   "outputs": [],
   "source": [
    "## Adaptive Breite (Quantile)"
   ]
  },
  {
   "cell_type": "code",
   "execution_count": 61,
   "metadata": {},
   "outputs": [
    {
     "data": {
      "text/html": "<div>\n<style scoped>\n    .dataframe tbody tr th:only-of-type {\n        vertical-align: middle;\n    }\n\n    .dataframe tbody tr th {\n        vertical-align: top;\n    }\n\n    .dataframe thead th {\n        text-align: right;\n    }\n</style>\n<table border=\"1\" class=\"dataframe\">\n  <thead>\n    <tr style=\"text-align: right;\">\n      <th></th>\n      <th>alter</th>\n      <th>fix_manuell</th>\n      <th>fix_auto</th>\n      <th>fix_manuell_label</th>\n      <th>fix_auto_label</th>\n      <th>quantil</th>\n    </tr>\n  </thead>\n  <tbody>\n    <tr>\n      <th>0</th>\n      <td>17</td>\n      <td>(0, 20]</td>\n      <td>(9.94, 25.0]</td>\n      <td>0</td>\n      <td>0</td>\n      <td>(9.999, 22.25]</td>\n    </tr>\n    <tr>\n      <th>1</th>\n      <td>10</td>\n      <td>(0, 20]</td>\n      <td>(9.94, 25.0]</td>\n      <td>0</td>\n      <td>0</td>\n      <td>(9.999, 22.25]</td>\n    </tr>\n    <tr>\n      <th>2</th>\n      <td>24</td>\n      <td>(20, 40]</td>\n      <td>(9.94, 25.0]</td>\n      <td>1</td>\n      <td>0</td>\n      <td>(22.25, 44.0]</td>\n    </tr>\n    <tr>\n      <th>3</th>\n      <td>45</td>\n      <td>(40, 60]</td>\n      <td>(40.0, 55.0]</td>\n      <td>2</td>\n      <td>2</td>\n      <td>(44.0, 46.25]</td>\n    </tr>\n    <tr>\n      <th>4</th>\n      <td>43</td>\n      <td>(40, 60]</td>\n      <td>(40.0, 55.0]</td>\n      <td>2</td>\n      <td>2</td>\n      <td>(22.25, 44.0]</td>\n    </tr>\n    <tr>\n      <th>5</th>\n      <td>45</td>\n      <td>(40, 60]</td>\n      <td>(40.0, 55.0]</td>\n      <td>2</td>\n      <td>2</td>\n      <td>(44.0, 46.25]</td>\n    </tr>\n    <tr>\n      <th>6</th>\n      <td>50</td>\n      <td>(40, 60]</td>\n      <td>(40.0, 55.0]</td>\n      <td>2</td>\n      <td>2</td>\n      <td>(46.25, 70.0]</td>\n    </tr>\n    <tr>\n      <th>7</th>\n      <td>70</td>\n      <td>(60, 80]</td>\n      <td>(55.0, 70.0]</td>\n      <td>3</td>\n      <td>3</td>\n      <td>(46.25, 70.0]</td>\n    </tr>\n  </tbody>\n</table>\n</div>",
      "text/plain": "   alter fix_manuell      fix_auto  fix_manuell_label  fix_auto_label  \\\n0     17     (0, 20]  (9.94, 25.0]                  0               0   \n1     10     (0, 20]  (9.94, 25.0]                  0               0   \n2     24    (20, 40]  (9.94, 25.0]                  1               0   \n3     45    (40, 60]  (40.0, 55.0]                  2               2   \n4     43    (40, 60]  (40.0, 55.0]                  2               2   \n5     45    (40, 60]  (40.0, 55.0]                  2               2   \n6     50    (40, 60]  (40.0, 55.0]                  2               2   \n7     70    (60, 80]  (55.0, 70.0]                  3               3   \n\n          quantil  \n0  (9.999, 22.25]  \n1  (9.999, 22.25]  \n2   (22.25, 44.0]  \n3   (44.0, 46.25]  \n4   (22.25, 44.0]  \n5   (44.0, 46.25]  \n6   (46.25, 70.0]  \n7   (46.25, 70.0]  "
     },
     "execution_count": 61,
     "metadata": {},
     "output_type": "execute_result"
    }
   ],
   "source": [
    "df[\"quantil\"] = pd.qcut(df.alter, q=4)\n",
    "df"
   ]
  },
  {
   "cell_type": "code",
   "execution_count": 62,
   "metadata": {},
   "outputs": [
    {
     "data": {
      "text/html": "<div>\n<style scoped>\n    .dataframe tbody tr th:only-of-type {\n        vertical-align: middle;\n    }\n\n    .dataframe tbody tr th {\n        vertical-align: top;\n    }\n\n    .dataframe thead th {\n        text-align: right;\n    }\n</style>\n<table border=\"1\" class=\"dataframe\">\n  <thead>\n    <tr style=\"text-align: right;\">\n      <th></th>\n      <th>alter</th>\n      <th>fix_manuell</th>\n      <th>fix_auto</th>\n      <th>fix_manuell_label</th>\n      <th>fix_auto_label</th>\n      <th>quantil</th>\n      <th>quantil_label</th>\n    </tr>\n  </thead>\n  <tbody>\n    <tr>\n      <th>0</th>\n      <td>17</td>\n      <td>(0, 20]</td>\n      <td>(9.94, 25.0]</td>\n      <td>0</td>\n      <td>0</td>\n      <td>(9.999, 22.25]</td>\n      <td>q1</td>\n    </tr>\n    <tr>\n      <th>1</th>\n      <td>10</td>\n      <td>(0, 20]</td>\n      <td>(9.94, 25.0]</td>\n      <td>0</td>\n      <td>0</td>\n      <td>(9.999, 22.25]</td>\n      <td>q1</td>\n    </tr>\n    <tr>\n      <th>2</th>\n      <td>24</td>\n      <td>(20, 40]</td>\n      <td>(9.94, 25.0]</td>\n      <td>1</td>\n      <td>0</td>\n      <td>(22.25, 44.0]</td>\n      <td>q2</td>\n    </tr>\n    <tr>\n      <th>3</th>\n      <td>45</td>\n      <td>(40, 60]</td>\n      <td>(40.0, 55.0]</td>\n      <td>2</td>\n      <td>2</td>\n      <td>(44.0, 46.25]</td>\n      <td>q3</td>\n    </tr>\n    <tr>\n      <th>4</th>\n      <td>43</td>\n      <td>(40, 60]</td>\n      <td>(40.0, 55.0]</td>\n      <td>2</td>\n      <td>2</td>\n      <td>(22.25, 44.0]</td>\n      <td>q2</td>\n    </tr>\n    <tr>\n      <th>5</th>\n      <td>45</td>\n      <td>(40, 60]</td>\n      <td>(40.0, 55.0]</td>\n      <td>2</td>\n      <td>2</td>\n      <td>(44.0, 46.25]</td>\n      <td>q3</td>\n    </tr>\n    <tr>\n      <th>6</th>\n      <td>50</td>\n      <td>(40, 60]</td>\n      <td>(40.0, 55.0]</td>\n      <td>2</td>\n      <td>2</td>\n      <td>(46.25, 70.0]</td>\n      <td>q4</td>\n    </tr>\n    <tr>\n      <th>7</th>\n      <td>70</td>\n      <td>(60, 80]</td>\n      <td>(55.0, 70.0]</td>\n      <td>3</td>\n      <td>3</td>\n      <td>(46.25, 70.0]</td>\n      <td>q4</td>\n    </tr>\n  </tbody>\n</table>\n</div>",
      "text/plain": "   alter fix_manuell      fix_auto  fix_manuell_label  fix_auto_label  \\\n0     17     (0, 20]  (9.94, 25.0]                  0               0   \n1     10     (0, 20]  (9.94, 25.0]                  0               0   \n2     24    (20, 40]  (9.94, 25.0]                  1               0   \n3     45    (40, 60]  (40.0, 55.0]                  2               2   \n4     43    (40, 60]  (40.0, 55.0]                  2               2   \n5     45    (40, 60]  (40.0, 55.0]                  2               2   \n6     50    (40, 60]  (40.0, 55.0]                  2               2   \n7     70    (60, 80]  (55.0, 70.0]                  3               3   \n\n          quantil quantil_label  \n0  (9.999, 22.25]            q1  \n1  (9.999, 22.25]            q1  \n2   (22.25, 44.0]            q2  \n3   (44.0, 46.25]            q3  \n4   (22.25, 44.0]            q2  \n5   (44.0, 46.25]            q3  \n6   (46.25, 70.0]            q4  \n7   (46.25, 70.0]            q4  "
     },
     "execution_count": 62,
     "metadata": {},
     "output_type": "execute_result"
    }
   ],
   "source": [
    "df[\"quantil_label\"] = pd.qcut(df.alter, q=4, labels=[\"q1\", \"q2\", \"q3\", \"q4\"])\n",
    "df"
   ]
  },
  {
   "cell_type": "code",
   "execution_count": 68,
   "metadata": {},
   "outputs": [
    {
     "data": {
      "text/plain": "(46.25, 70.0]     2\n(44.0, 46.25]     2\n(22.25, 44.0]     2\n(9.999, 22.25]    2\nName: quantil, dtype: int64"
     },
     "execution_count": 68,
     "metadata": {},
     "output_type": "execute_result"
    }
   ],
   "source": [
    "df[\"quantil\"].value_counts()"
   ]
  }
 ]
}