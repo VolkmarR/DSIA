{
 "nbformat": 4,
 "nbformat_minor": 2,
 "metadata": {
  "language_info": {
   "name": "python",
   "codemirror_mode": {
    "name": "ipython",
    "version": 3
   },
   "version": "3.7.4-final"
  },
  "orig_nbformat": 2,
  "file_extension": ".py",
  "mimetype": "text/x-python",
  "name": "python",
  "npconvert_exporter": "python",
  "pygments_lexer": "ipython3",
  "version": 3,
  "kernelspec": {
   "name": "python37464bitprogramdatavirtualenv66c620b5b8934363be0077bf0009f025",
   "display_name": "Python 3.7.4 64-bit ('ProgramData': virtualenv)"
  }
 },
 "cells": [
  {
   "cell_type": "markdown",
   "metadata": {},
   "source": [
    "# Basics\n",
    "\n",
    "## Initialisierung"
   ]
  },
  {
   "cell_type": "code",
   "execution_count": 1,
   "metadata": {},
   "outputs": [],
   "source": [
    "import pandas as pd\n",
    "from datetime import date, datetime\n",
    "from sklearn import preprocessing"
   ]
  },
  {
   "cell_type": "code",
   "execution_count": 2,
   "metadata": {},
   "outputs": [
    {
     "output_type": "execute_result",
     "data": {
      "text/plain": [
       "      nam     gebdat    stud\n",
       "0  Pers A 1974-01-01    wahr\n",
       "1  Pers B 1976-01-01  falsch\n",
       "2  Pers C 1979-01-01    wahr"
      ],
      "text/html": "<div>\n<style scoped>\n    .dataframe tbody tr th:only-of-type {\n        vertical-align: middle;\n    }\n\n    .dataframe tbody tr th {\n        vertical-align: top;\n    }\n\n    .dataframe thead th {\n        text-align: right;\n    }\n</style>\n<table border=\"1\" class=\"dataframe\">\n  <thead>\n    <tr style=\"text-align: right;\">\n      <th></th>\n      <th>nam</th>\n      <th>gebdat</th>\n      <th>stud</th>\n    </tr>\n  </thead>\n  <tbody>\n    <tr>\n      <th>0</th>\n      <td>Pers A</td>\n      <td>1974-01-01</td>\n      <td>wahr</td>\n    </tr>\n    <tr>\n      <th>1</th>\n      <td>Pers B</td>\n      <td>1976-01-01</td>\n      <td>falsch</td>\n    </tr>\n    <tr>\n      <th>2</th>\n      <td>Pers C</td>\n      <td>1979-01-01</td>\n      <td>wahr</td>\n    </tr>\n  </tbody>\n</table>\n</div>"
     },
     "metadata": {},
     "execution_count": 2
    }
   ],
   "source": [
    "df = pd.DataFrame({\"nam\": [\"Pers A\", \"Pers B\", \"Pers C\"], \"gebdat\": [datetime(1974, 1, 1), datetime(1976, 1, 1), datetime(1979, 1, 1)], \"stud\": [\"wahr\", \"falsch\", \"wahr\"]})\n",
    "df"
   ]
  },
  {
   "cell_type": "markdown",
   "metadata": {},
   "source": [
    "## Projektionen\n",
    "### Spalten umbenennen"
   ]
  },
  {
   "cell_type": "code",
   "execution_count": 3,
   "metadata": {},
   "outputs": [
    {
     "output_type": "execute_result",
     "data": {
      "text/plain": [
       "     Name Geburtstag Student\n",
       "0  Pers A 1974-01-01    wahr\n",
       "1  Pers B 1976-01-01  falsch\n",
       "2  Pers C 1979-01-01    wahr"
      ],
      "text/html": "<div>\n<style scoped>\n    .dataframe tbody tr th:only-of-type {\n        vertical-align: middle;\n    }\n\n    .dataframe tbody tr th {\n        vertical-align: top;\n    }\n\n    .dataframe thead th {\n        text-align: right;\n    }\n</style>\n<table border=\"1\" class=\"dataframe\">\n  <thead>\n    <tr style=\"text-align: right;\">\n      <th></th>\n      <th>Name</th>\n      <th>Geburtstag</th>\n      <th>Student</th>\n    </tr>\n  </thead>\n  <tbody>\n    <tr>\n      <th>0</th>\n      <td>Pers A</td>\n      <td>1974-01-01</td>\n      <td>wahr</td>\n    </tr>\n    <tr>\n      <th>1</th>\n      <td>Pers B</td>\n      <td>1976-01-01</td>\n      <td>falsch</td>\n    </tr>\n    <tr>\n      <th>2</th>\n      <td>Pers C</td>\n      <td>1979-01-01</td>\n      <td>wahr</td>\n    </tr>\n  </tbody>\n</table>\n</div>"
     },
     "metadata": {},
     "execution_count": 3
    }
   ],
   "source": [
    "df = df.rename(columns={\"nam\": \"Name\", \"gebdat\": \"Geburtstag\", \"stud\": \"Student\"})\n",
    "df"
   ]
  },
  {
   "cell_type": "markdown",
   "metadata": {},
   "source": [
    "### Spalte hinzufügen"
   ]
  },
  {
   "cell_type": "code",
   "execution_count": 4,
   "metadata": {},
   "outputs": [
    {
     "output_type": "execute_result",
     "data": {
      "text/plain": [
       "     Name Geburtstag Student  Alter\n",
       "0  Pers A 1974-01-01    wahr     46\n",
       "1  Pers B 1976-01-01  falsch     44\n",
       "2  Pers C 1979-01-01    wahr     41"
      ],
      "text/html": "<div>\n<style scoped>\n    .dataframe tbody tr th:only-of-type {\n        vertical-align: middle;\n    }\n\n    .dataframe tbody tr th {\n        vertical-align: top;\n    }\n\n    .dataframe thead th {\n        text-align: right;\n    }\n</style>\n<table border=\"1\" class=\"dataframe\">\n  <thead>\n    <tr style=\"text-align: right;\">\n      <th></th>\n      <th>Name</th>\n      <th>Geburtstag</th>\n      <th>Student</th>\n      <th>Alter</th>\n    </tr>\n  </thead>\n  <tbody>\n    <tr>\n      <th>0</th>\n      <td>Pers A</td>\n      <td>1974-01-01</td>\n      <td>wahr</td>\n      <td>46</td>\n    </tr>\n    <tr>\n      <th>1</th>\n      <td>Pers B</td>\n      <td>1976-01-01</td>\n      <td>falsch</td>\n      <td>44</td>\n    </tr>\n    <tr>\n      <th>2</th>\n      <td>Pers C</td>\n      <td>1979-01-01</td>\n      <td>wahr</td>\n      <td>41</td>\n    </tr>\n  </tbody>\n</table>\n</div>"
     },
     "metadata": {},
     "execution_count": 4
    }
   ],
   "source": [
    "today = date.today() \n",
    "def calculateAge(birthDate): \n",
    "    return today.year - birthDate.year - ((today.month, today.day) < (birthDate.month, birthDate.day))\n",
    "\n",
    "df[\"Alter\"] = df.Geburtstag.apply(calculateAge)\n",
    "df"
   ]
  },
  {
   "cell_type": "markdown",
   "metadata": {},
   "source": [
    "### Spalte entfernen"
   ]
  },
  {
   "cell_type": "code",
   "execution_count": 5,
   "metadata": {},
   "outputs": [
    {
     "output_type": "execute_result",
     "data": {
      "text/plain": [
       "     Name Geburtstag Student\n",
       "0  Pers A 1974-01-01    wahr\n",
       "1  Pers B 1976-01-01  falsch\n",
       "2  Pers C 1979-01-01    wahr"
      ],
      "text/html": "<div>\n<style scoped>\n    .dataframe tbody tr th:only-of-type {\n        vertical-align: middle;\n    }\n\n    .dataframe tbody tr th {\n        vertical-align: top;\n    }\n\n    .dataframe thead th {\n        text-align: right;\n    }\n</style>\n<table border=\"1\" class=\"dataframe\">\n  <thead>\n    <tr style=\"text-align: right;\">\n      <th></th>\n      <th>Name</th>\n      <th>Geburtstag</th>\n      <th>Student</th>\n    </tr>\n  </thead>\n  <tbody>\n    <tr>\n      <th>0</th>\n      <td>Pers A</td>\n      <td>1974-01-01</td>\n      <td>wahr</td>\n    </tr>\n    <tr>\n      <th>1</th>\n      <td>Pers B</td>\n      <td>1976-01-01</td>\n      <td>falsch</td>\n    </tr>\n    <tr>\n      <th>2</th>\n      <td>Pers C</td>\n      <td>1979-01-01</td>\n      <td>wahr</td>\n    </tr>\n  </tbody>\n</table>\n</div>"
     },
     "metadata": {},
     "execution_count": 5
    }
   ],
   "source": [
    "df = df.drop(columns=[\"Alter\"])\n",
    "df"
   ]
  },
  {
   "cell_type": "markdown",
   "metadata": {},
   "source": [
    "## Wertkonvertierung"
   ]
  },
  {
   "cell_type": "code",
   "execution_count": 6,
   "metadata": {},
   "outputs": [
    {
     "output_type": "execute_result",
     "data": {
      "text/plain": [
       "     Name Geburtstag  Student\n",
       "0  Pers A 1974-01-01        1\n",
       "1  Pers B 1976-01-01        0\n",
       "2  Pers C 1979-01-01        1"
      ],
      "text/html": "<div>\n<style scoped>\n    .dataframe tbody tr th:only-of-type {\n        vertical-align: middle;\n    }\n\n    .dataframe tbody tr th {\n        vertical-align: top;\n    }\n\n    .dataframe thead th {\n        text-align: right;\n    }\n</style>\n<table border=\"1\" class=\"dataframe\">\n  <thead>\n    <tr style=\"text-align: right;\">\n      <th></th>\n      <th>Name</th>\n      <th>Geburtstag</th>\n      <th>Student</th>\n    </tr>\n  </thead>\n  <tbody>\n    <tr>\n      <th>0</th>\n      <td>Pers A</td>\n      <td>1974-01-01</td>\n      <td>1</td>\n    </tr>\n    <tr>\n      <th>1</th>\n      <td>Pers B</td>\n      <td>1976-01-01</td>\n      <td>0</td>\n    </tr>\n    <tr>\n      <th>2</th>\n      <td>Pers C</td>\n      <td>1979-01-01</td>\n      <td>1</td>\n    </tr>\n  </tbody>\n</table>\n</div>"
     },
     "metadata": {},
     "execution_count": 6
    }
   ],
   "source": [
    "map = { \"wahr\": 1, \"falsch\": 0 }\n",
    "df[\"Student\"] = df[\"Student\"].apply(lambda x: map[x])\n",
    "df\n"
   ]
  },
  {
   "cell_type": "markdown",
   "metadata": {},
   "source": [
    "## Daten kombinieren"
   ]
  },
  {
   "cell_type": "code",
   "execution_count": 7,
   "metadata": {},
   "outputs": [
    {
     "output_type": "execute_result",
     "data": {
      "text/plain": [
       "     Name       Ort\n",
       "0  Pers A   Bruneck\n",
       "1  Pers B    Brixen\n",
       "2  Pers D  Kufstein"
      ],
      "text/html": "<div>\n<style scoped>\n    .dataframe tbody tr th:only-of-type {\n        vertical-align: middle;\n    }\n\n    .dataframe tbody tr th {\n        vertical-align: top;\n    }\n\n    .dataframe thead th {\n        text-align: right;\n    }\n</style>\n<table border=\"1\" class=\"dataframe\">\n  <thead>\n    <tr style=\"text-align: right;\">\n      <th></th>\n      <th>Name</th>\n      <th>Ort</th>\n    </tr>\n  </thead>\n  <tbody>\n    <tr>\n      <th>0</th>\n      <td>Pers A</td>\n      <td>Bruneck</td>\n    </tr>\n    <tr>\n      <th>1</th>\n      <td>Pers B</td>\n      <td>Brixen</td>\n    </tr>\n    <tr>\n      <th>2</th>\n      <td>Pers D</td>\n      <td>Kufstein</td>\n    </tr>\n  </tbody>\n</table>\n</div>"
     },
     "metadata": {},
     "execution_count": 7
    }
   ],
   "source": [
    "df2 = pd.DataFrame({\"Name\": [\"Pers A\", \"Pers B\", \"Pers D\"], \"Ort\": [\"Bruneck\", \"Brixen\", \"Kufstein\"]})\n",
    "df2"
   ]
  },
  {
   "cell_type": "markdown",
   "metadata": {},
   "source": [
    "### Inner Join"
   ]
  },
  {
   "cell_type": "code",
   "execution_count": 8,
   "metadata": {},
   "outputs": [
    {
     "output_type": "execute_result",
     "data": {
      "text/plain": [
       "     Name Geburtstag  Student      Ort\n",
       "0  Pers A 1974-01-01        1  Bruneck\n",
       "1  Pers B 1976-01-01        0   Brixen"
      ],
      "text/html": "<div>\n<style scoped>\n    .dataframe tbody tr th:only-of-type {\n        vertical-align: middle;\n    }\n\n    .dataframe tbody tr th {\n        vertical-align: top;\n    }\n\n    .dataframe thead th {\n        text-align: right;\n    }\n</style>\n<table border=\"1\" class=\"dataframe\">\n  <thead>\n    <tr style=\"text-align: right;\">\n      <th></th>\n      <th>Name</th>\n      <th>Geburtstag</th>\n      <th>Student</th>\n      <th>Ort</th>\n    </tr>\n  </thead>\n  <tbody>\n    <tr>\n      <th>0</th>\n      <td>Pers A</td>\n      <td>1974-01-01</td>\n      <td>1</td>\n      <td>Bruneck</td>\n    </tr>\n    <tr>\n      <th>1</th>\n      <td>Pers B</td>\n      <td>1976-01-01</td>\n      <td>0</td>\n      <td>Brixen</td>\n    </tr>\n  </tbody>\n</table>\n</div>"
     },
     "metadata": {},
     "execution_count": 8
    }
   ],
   "source": [
    "pd.merge(df, df2, left_on=\"Name\", right_on=\"Name\")"
   ]
  },
  {
   "cell_type": "markdown",
   "metadata": {},
   "source": [
    "### Left outer join"
   ]
  },
  {
   "cell_type": "code",
   "execution_count": 9,
   "metadata": {},
   "outputs": [
    {
     "output_type": "execute_result",
     "data": {
      "text/plain": [
       "     Name Geburtstag  Student      Ort\n",
       "0  Pers A 1974-01-01        1  Bruneck\n",
       "1  Pers B 1976-01-01        0   Brixen\n",
       "2  Pers C 1979-01-01        1      NaN"
      ],
      "text/html": "<div>\n<style scoped>\n    .dataframe tbody tr th:only-of-type {\n        vertical-align: middle;\n    }\n\n    .dataframe tbody tr th {\n        vertical-align: top;\n    }\n\n    .dataframe thead th {\n        text-align: right;\n    }\n</style>\n<table border=\"1\" class=\"dataframe\">\n  <thead>\n    <tr style=\"text-align: right;\">\n      <th></th>\n      <th>Name</th>\n      <th>Geburtstag</th>\n      <th>Student</th>\n      <th>Ort</th>\n    </tr>\n  </thead>\n  <tbody>\n    <tr>\n      <th>0</th>\n      <td>Pers A</td>\n      <td>1974-01-01</td>\n      <td>1</td>\n      <td>Bruneck</td>\n    </tr>\n    <tr>\n      <th>1</th>\n      <td>Pers B</td>\n      <td>1976-01-01</td>\n      <td>0</td>\n      <td>Brixen</td>\n    </tr>\n    <tr>\n      <th>2</th>\n      <td>Pers C</td>\n      <td>1979-01-01</td>\n      <td>1</td>\n      <td>NaN</td>\n    </tr>\n  </tbody>\n</table>\n</div>"
     },
     "metadata": {},
     "execution_count": 9
    }
   ],
   "source": [
    "pd.merge(df, df2, on=\"Name\", how=\"left\")"
   ]
  },
  {
   "cell_type": "markdown",
   "metadata": {},
   "source": [
    "## Pivot / Unpivot\n",
    "\n",
    "### Initialisierung"
   ]
  },
  {
   "cell_type": "code",
   "execution_count": 10,
   "metadata": {},
   "outputs": [
    {
     "output_type": "execute_result",
     "data": {
      "text/plain": [
       "  Person       Art Telefon\n",
       "0      A  Festnetz     111\n",
       "1      A     Mobil     222\n",
       "2      B     Mobil     333\n",
       "3      C  Festnetz     444\n",
       "4      C       Fax     555"
      ],
      "text/html": "<div>\n<style scoped>\n    .dataframe tbody tr th:only-of-type {\n        vertical-align: middle;\n    }\n\n    .dataframe tbody tr th {\n        vertical-align: top;\n    }\n\n    .dataframe thead th {\n        text-align: right;\n    }\n</style>\n<table border=\"1\" class=\"dataframe\">\n  <thead>\n    <tr style=\"text-align: right;\">\n      <th></th>\n      <th>Person</th>\n      <th>Art</th>\n      <th>Telefon</th>\n    </tr>\n  </thead>\n  <tbody>\n    <tr>\n      <th>0</th>\n      <td>A</td>\n      <td>Festnetz</td>\n      <td>111</td>\n    </tr>\n    <tr>\n      <th>1</th>\n      <td>A</td>\n      <td>Mobil</td>\n      <td>222</td>\n    </tr>\n    <tr>\n      <th>2</th>\n      <td>B</td>\n      <td>Mobil</td>\n      <td>333</td>\n    </tr>\n    <tr>\n      <th>3</th>\n      <td>C</td>\n      <td>Festnetz</td>\n      <td>444</td>\n    </tr>\n    <tr>\n      <th>4</th>\n      <td>C</td>\n      <td>Fax</td>\n      <td>555</td>\n    </tr>\n  </tbody>\n</table>\n</div>"
     },
     "metadata": {},
     "execution_count": 10
    }
   ],
   "source": [
    "df = pd.DataFrame({\"Person\": [\"A\", \"A\", \"B\", \"C\", \"C\"], \"Art\": [\"Festnetz\", \"Mobil\", \"Mobil\",\"Festnetz\", \"Fax\"], \"Telefon\": [\"111\", \"222\", \"333\", \"444\", \"555\"]})\n",
    "df"
   ]
  },
  {
   "cell_type": "markdown",
   "metadata": {},
   "source": [
    "### Pivot"
   ]
  },
  {
   "cell_type": "code",
   "execution_count": 11,
   "metadata": {},
   "outputs": [
    {
     "output_type": "execute_result",
     "data": {
      "text/plain": [
       "Art     Fax Festnetz Mobil\n",
       "Person                    \n",
       "A       NaN      111   222\n",
       "B       NaN      NaN   333\n",
       "C       555      444   NaN"
      ],
      "text/html": "<div>\n<style scoped>\n    .dataframe tbody tr th:only-of-type {\n        vertical-align: middle;\n    }\n\n    .dataframe tbody tr th {\n        vertical-align: top;\n    }\n\n    .dataframe thead th {\n        text-align: right;\n    }\n</style>\n<table border=\"1\" class=\"dataframe\">\n  <thead>\n    <tr style=\"text-align: right;\">\n      <th>Art</th>\n      <th>Fax</th>\n      <th>Festnetz</th>\n      <th>Mobil</th>\n    </tr>\n    <tr>\n      <th>Person</th>\n      <th></th>\n      <th></th>\n      <th></th>\n    </tr>\n  </thead>\n  <tbody>\n    <tr>\n      <th>A</th>\n      <td>NaN</td>\n      <td>111</td>\n      <td>222</td>\n    </tr>\n    <tr>\n      <th>B</th>\n      <td>NaN</td>\n      <td>NaN</td>\n      <td>333</td>\n    </tr>\n    <tr>\n      <th>C</th>\n      <td>555</td>\n      <td>444</td>\n      <td>NaN</td>\n    </tr>\n  </tbody>\n</table>\n</div>"
     },
     "metadata": {},
     "execution_count": 11
    }
   ],
   "source": [
    "dfPiv = df.pivot(index='Person', columns='Art', values='Telefon')\n",
    "dfPiv"
   ]
  },
  {
   "cell_type": "code",
   "execution_count": 12,
   "metadata": {},
   "outputs": [
    {
     "output_type": "execute_result",
     "data": {
      "text/plain": [
       "Art Person  Fax Festnetz Mobil\n",
       "0        A  NaN      111   222\n",
       "1        B  NaN      NaN   333\n",
       "2        C  555      444   NaN"
      ],
      "text/html": "<div>\n<style scoped>\n    .dataframe tbody tr th:only-of-type {\n        vertical-align: middle;\n    }\n\n    .dataframe tbody tr th {\n        vertical-align: top;\n    }\n\n    .dataframe thead th {\n        text-align: right;\n    }\n</style>\n<table border=\"1\" class=\"dataframe\">\n  <thead>\n    <tr style=\"text-align: right;\">\n      <th>Art</th>\n      <th>Person</th>\n      <th>Fax</th>\n      <th>Festnetz</th>\n      <th>Mobil</th>\n    </tr>\n  </thead>\n  <tbody>\n    <tr>\n      <th>0</th>\n      <td>A</td>\n      <td>NaN</td>\n      <td>111</td>\n      <td>222</td>\n    </tr>\n    <tr>\n      <th>1</th>\n      <td>B</td>\n      <td>NaN</td>\n      <td>NaN</td>\n      <td>333</td>\n    </tr>\n    <tr>\n      <th>2</th>\n      <td>C</td>\n      <td>555</td>\n      <td>444</td>\n      <td>NaN</td>\n    </tr>\n  </tbody>\n</table>\n</div>"
     },
     "metadata": {},
     "execution_count": 12
    }
   ],
   "source": [
    "dfPiv = dfPiv.reset_index()\n",
    "dfPiv"
   ]
  },
  {
   "cell_type": "markdown",
   "metadata": {},
   "source": [
    "### Unpivot"
   ]
  },
  {
   "cell_type": "code",
   "execution_count": 13,
   "metadata": {},
   "outputs": [
    {
     "output_type": "execute_result",
     "data": {
      "text/plain": [
       "  Person ArtTelefon Telefon\n",
       "0      A        Fax     NaN\n",
       "1      B        Fax     NaN\n",
       "2      C        Fax     555\n",
       "3      A   Festnetz     111\n",
       "4      B   Festnetz     NaN\n",
       "5      C   Festnetz     444\n",
       "6      A      Mobil     222\n",
       "7      B      Mobil     333\n",
       "8      C      Mobil     NaN"
      ],
      "text/html": "<div>\n<style scoped>\n    .dataframe tbody tr th:only-of-type {\n        vertical-align: middle;\n    }\n\n    .dataframe tbody tr th {\n        vertical-align: top;\n    }\n\n    .dataframe thead th {\n        text-align: right;\n    }\n</style>\n<table border=\"1\" class=\"dataframe\">\n  <thead>\n    <tr style=\"text-align: right;\">\n      <th></th>\n      <th>Person</th>\n      <th>ArtTelefon</th>\n      <th>Telefon</th>\n    </tr>\n  </thead>\n  <tbody>\n    <tr>\n      <th>0</th>\n      <td>A</td>\n      <td>Fax</td>\n      <td>NaN</td>\n    </tr>\n    <tr>\n      <th>1</th>\n      <td>B</td>\n      <td>Fax</td>\n      <td>NaN</td>\n    </tr>\n    <tr>\n      <th>2</th>\n      <td>C</td>\n      <td>Fax</td>\n      <td>555</td>\n    </tr>\n    <tr>\n      <th>3</th>\n      <td>A</td>\n      <td>Festnetz</td>\n      <td>111</td>\n    </tr>\n    <tr>\n      <th>4</th>\n      <td>B</td>\n      <td>Festnetz</td>\n      <td>NaN</td>\n    </tr>\n    <tr>\n      <th>5</th>\n      <td>C</td>\n      <td>Festnetz</td>\n      <td>444</td>\n    </tr>\n    <tr>\n      <th>6</th>\n      <td>A</td>\n      <td>Mobil</td>\n      <td>222</td>\n    </tr>\n    <tr>\n      <th>7</th>\n      <td>B</td>\n      <td>Mobil</td>\n      <td>333</td>\n    </tr>\n    <tr>\n      <th>8</th>\n      <td>C</td>\n      <td>Mobil</td>\n      <td>NaN</td>\n    </tr>\n  </tbody>\n</table>\n</div>"
     },
     "metadata": {},
     "execution_count": 13
    }
   ],
   "source": [
    "dfUnpiv = pd.melt(dfPiv, id_vars=[\"Person\"], var_name=\"ArtTelefon\", value_name=\"Telefon\")\n",
    "dfUnpiv\n"
   ]
  },
  {
   "cell_type": "code",
   "execution_count": 14,
   "metadata": {},
   "outputs": [
    {
     "output_type": "execute_result",
     "data": {
      "text/plain": [
       "  Person ArtTelefon Telefon\n",
       "2      C        Fax     555\n",
       "3      A   Festnetz     111\n",
       "5      C   Festnetz     444\n",
       "6      A      Mobil     222\n",
       "7      B      Mobil     333"
      ],
      "text/html": "<div>\n<style scoped>\n    .dataframe tbody tr th:only-of-type {\n        vertical-align: middle;\n    }\n\n    .dataframe tbody tr th {\n        vertical-align: top;\n    }\n\n    .dataframe thead th {\n        text-align: right;\n    }\n</style>\n<table border=\"1\" class=\"dataframe\">\n  <thead>\n    <tr style=\"text-align: right;\">\n      <th></th>\n      <th>Person</th>\n      <th>ArtTelefon</th>\n      <th>Telefon</th>\n    </tr>\n  </thead>\n  <tbody>\n    <tr>\n      <th>2</th>\n      <td>C</td>\n      <td>Fax</td>\n      <td>555</td>\n    </tr>\n    <tr>\n      <th>3</th>\n      <td>A</td>\n      <td>Festnetz</td>\n      <td>111</td>\n    </tr>\n    <tr>\n      <th>5</th>\n      <td>C</td>\n      <td>Festnetz</td>\n      <td>444</td>\n    </tr>\n    <tr>\n      <th>6</th>\n      <td>A</td>\n      <td>Mobil</td>\n      <td>222</td>\n    </tr>\n    <tr>\n      <th>7</th>\n      <td>B</td>\n      <td>Mobil</td>\n      <td>333</td>\n    </tr>\n  </tbody>\n</table>\n</div>"
     },
     "metadata": {},
     "execution_count": 14
    }
   ],
   "source": [
    "dfUnpiv.dropna(axis=0, how='any', thresh=None, subset=None, inplace=False)"
   ]
  },
  {
   "cell_type": "markdown",
   "metadata": {},
   "source": [
    "## OneHotEncoding"
   ]
  },
  {
   "cell_type": "code",
   "execution_count": 15,
   "metadata": {},
   "outputs": [
    {
     "output_type": "execute_result",
     "data": {
      "text/plain": [
       "  Person Telefon  Art_Fax  Art_Festnetz  Art_Mobil\n",
       "0      A     111        0             1          0\n",
       "1      A     222        0             0          1\n",
       "2      B     333        0             0          1\n",
       "3      C     444        0             1          0\n",
       "4      C     555        1             0          0"
      ],
      "text/html": "<div>\n<style scoped>\n    .dataframe tbody tr th:only-of-type {\n        vertical-align: middle;\n    }\n\n    .dataframe tbody tr th {\n        vertical-align: top;\n    }\n\n    .dataframe thead th {\n        text-align: right;\n    }\n</style>\n<table border=\"1\" class=\"dataframe\">\n  <thead>\n    <tr style=\"text-align: right;\">\n      <th></th>\n      <th>Person</th>\n      <th>Telefon</th>\n      <th>Art_Fax</th>\n      <th>Art_Festnetz</th>\n      <th>Art_Mobil</th>\n    </tr>\n  </thead>\n  <tbody>\n    <tr>\n      <th>0</th>\n      <td>A</td>\n      <td>111</td>\n      <td>0</td>\n      <td>1</td>\n      <td>0</td>\n    </tr>\n    <tr>\n      <th>1</th>\n      <td>A</td>\n      <td>222</td>\n      <td>0</td>\n      <td>0</td>\n      <td>1</td>\n    </tr>\n    <tr>\n      <th>2</th>\n      <td>B</td>\n      <td>333</td>\n      <td>0</td>\n      <td>0</td>\n      <td>1</td>\n    </tr>\n    <tr>\n      <th>3</th>\n      <td>C</td>\n      <td>444</td>\n      <td>0</td>\n      <td>1</td>\n      <td>0</td>\n    </tr>\n    <tr>\n      <th>4</th>\n      <td>C</td>\n      <td>555</td>\n      <td>1</td>\n      <td>0</td>\n      <td>0</td>\n    </tr>\n  </tbody>\n</table>\n</div>"
     },
     "metadata": {},
     "execution_count": 15
    }
   ],
   "source": [
    "pd.get_dummies(df, columns=[\"Art\"]).head()"
   ]
  }
 ]
}