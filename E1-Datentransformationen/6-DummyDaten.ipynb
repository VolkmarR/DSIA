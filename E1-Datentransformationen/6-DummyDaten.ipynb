{
 "nbformat": 4,
 "nbformat_minor": 2,
 "metadata": {
  "language_info": {
   "name": "python",
   "codemirror_mode": {
    "name": "ipython",
    "version": 3
   }
  },
  "orig_nbformat": 2,
  "file_extension": ".py",
  "mimetype": "text/x-python",
  "name": "python",
  "npconvert_exporter": "python",
  "pygments_lexer": "ipython3",
  "version": 3
 },
 "cells": [
  {
   "cell_type": "markdown",
   "execution_count": null,
   "metadata": {},
   "outputs": [],
   "source": [
    "# Dummy Daten\n",
    "\n",
    "## Initialisierung"
   ]
  },
  {
   "cell_type": "code",
   "execution_count": 2,
   "metadata": {},
   "outputs": [],
   "source": [
    "from faker import Faker\n",
    "import pandas as pd"
   ]
  },
  {
   "cell_type": "markdown",
   "execution_count": null,
   "metadata": {},
   "outputs": [],
   "source": [
    "## Dummy Daten Erzeuzgen"
   ]
  },
  {
   "cell_type": "code",
   "execution_count": 14,
   "metadata": {},
   "outputs": [
    {
     "name": "stdout",
     "output_type": "stream",
     "text": "Name: Dorothy Jones\nItalian name: Eliana Gilardoni-Donati\nIBan: GB10TSNM54399890564038\nCredit card number: 4235624762561260\nEmail:  cassandra46@foster-salazar.org\n"
    }
   ],
   "source": [
    "fake = Faker()\n",
    "fake_it = Faker('it_IT')\n",
    "print(\"Name: \" + fake.name())\n",
    "print(\"Italian name: \" + fake_it.name())\n",
    "print(\"IBan: \" + fake.iban())\n",
    "print(\"Credit card number: \" + fake.credit_card_number())\n",
    "print(\"Email: \", fake.email())"
   ]
  },
  {
   "cell_type": "markdown",
   "execution_count": null,
   "metadata": {},
   "outputs": [],
   "source": [
    "## Dummy Dataset erzeugen"
   ]
  },
  {
   "cell_type": "code",
   "execution_count": 41,
   "metadata": {},
   "outputs": [
    {
     "data": {
      "text/html": "<div>\n<style scoped>\n    .dataframe tbody tr th:only-of-type {\n        vertical-align: middle;\n    }\n\n    .dataframe tbody tr th {\n        vertical-align: top;\n    }\n\n    .dataframe thead th {\n        text-align: right;\n    }\n</style>\n<table border=\"1\" class=\"dataframe\">\n  <thead>\n    <tr style=\"text-align: right;\">\n      <th></th>\n      <th>vorname</th>\n      <th>nachname</th>\n      <th>strasse</th>\n      <th>hausnummer</th>\n      <th>postleitzahl</th>\n      <th>ort</th>\n      <th>email</th>\n    </tr>\n  </thead>\n  <tbody>\n    <tr>\n      <th>0</th>\n      <td>Timo</td>\n      <td>Jockel</td>\n      <td>Junitzallee</td>\n      <td>7</td>\n      <td>45437</td>\n      <td>Greifswald</td>\n      <td>xbluemel@hotmail.de</td>\n    </tr>\n    <tr>\n      <th>1</th>\n      <td>Martina</td>\n      <td>Geißler</td>\n      <td>Wieland-Otto-Gasse</td>\n      <td>66</td>\n      <td>86979</td>\n      <td>Ravensburg</td>\n      <td>kati39@junitz.de</td>\n    </tr>\n    <tr>\n      <th>2</th>\n      <td>Alan</td>\n      <td>Henck</td>\n      <td>Dowergstr.</td>\n      <td>365</td>\n      <td>19007</td>\n      <td>Strausberg</td>\n      <td>wstiffel@web.de</td>\n    </tr>\n    <tr>\n      <th>3</th>\n      <td>Anna-Luise</td>\n      <td>Fischer</td>\n      <td>Scheibestraße</td>\n      <td>960</td>\n      <td>68034</td>\n      <td>Beeskow</td>\n      <td>zhermighausen@hotmail.de</td>\n    </tr>\n    <tr>\n      <th>4</th>\n      <td>Luise</td>\n      <td>Huhn</td>\n      <td>Pavel-Geisler-Weg</td>\n      <td>31</td>\n      <td>73549</td>\n      <td>Garmisch-Partenkirchen</td>\n      <td>aleksejharloff@hotmail.de</td>\n    </tr>\n    <tr>\n      <th>...</th>\n      <td>...</td>\n      <td>...</td>\n      <td>...</td>\n      <td>...</td>\n      <td>...</td>\n      <td>...</td>\n      <td>...</td>\n    </tr>\n    <tr>\n      <th>95</th>\n      <td>Christos</td>\n      <td>Scholtz</td>\n      <td>Wernerstr.</td>\n      <td>2/5</td>\n      <td>02918</td>\n      <td>Viersen</td>\n      <td>silkerosenow@aol.de</td>\n    </tr>\n    <tr>\n      <th>96</th>\n      <td>Ida</td>\n      <td>Kusch</td>\n      <td>Stiffelstr.</td>\n      <td>3</td>\n      <td>60375</td>\n      <td>Cottbus</td>\n      <td>qkranz@gmail.com</td>\n    </tr>\n    <tr>\n      <th>97</th>\n      <td>Klaus-Peter</td>\n      <td>Werner</td>\n      <td>Günter-Jäntsch-Ring</td>\n      <td>5</td>\n      <td>45249</td>\n      <td>Werdau</td>\n      <td>kathleen02@web.de</td>\n    </tr>\n    <tr>\n      <th>98</th>\n      <td>Elenore</td>\n      <td>Rosenow</td>\n      <td>Fredi-Schlosser-Gasse</td>\n      <td>058</td>\n      <td>11042</td>\n      <td>Wurzen</td>\n      <td>fatma71@suessebier.de</td>\n    </tr>\n    <tr>\n      <th>99</th>\n      <td>Urban</td>\n      <td>Mitschke</td>\n      <td>Kraushaarplatz</td>\n      <td>899</td>\n      <td>83125</td>\n      <td>Sömmerda</td>\n      <td>igor69@web.de</td>\n    </tr>\n  </tbody>\n</table>\n<p>100 rows × 7 columns</p>\n</div>",
      "text/plain": "        vorname  nachname                strasse hausnummer postleitzahl  \\\n0          Timo    Jockel            Junitzallee          7        45437   \n1       Martina   Geißler     Wieland-Otto-Gasse         66        86979   \n2          Alan     Henck             Dowergstr.        365        19007   \n3    Anna-Luise   Fischer          Scheibestraße        960        68034   \n4         Luise      Huhn      Pavel-Geisler-Weg         31        73549   \n..          ...       ...                    ...        ...          ...   \n95     Christos   Scholtz             Wernerstr.        2/5        02918   \n96          Ida     Kusch            Stiffelstr.          3        60375   \n97  Klaus-Peter    Werner    Günter-Jäntsch-Ring          5        45249   \n98      Elenore   Rosenow  Fredi-Schlosser-Gasse        058        11042   \n99        Urban  Mitschke         Kraushaarplatz        899        83125   \n\n                       ort                      email  \n0               Greifswald        xbluemel@hotmail.de  \n1               Ravensburg           kati39@junitz.de  \n2               Strausberg            wstiffel@web.de  \n3                  Beeskow   zhermighausen@hotmail.de  \n4   Garmisch-Partenkirchen  aleksejharloff@hotmail.de  \n..                     ...                        ...  \n95                 Viersen        silkerosenow@aol.de  \n96                 Cottbus           qkranz@gmail.com  \n97                  Werdau          kathleen02@web.de  \n98                  Wurzen      fatma71@suessebier.de  \n99                Sömmerda              igor69@web.de  \n\n[100 rows x 7 columns]"
     },
     "execution_count": 41,
     "metadata": {},
     "output_type": "execute_result"
    }
   ],
   "source": [
    "def dummy_rows(num=1):\n",
    "        fake = Faker(\"de_DE\")\n",
    "        return [{\"vorname\":fake.first_name(),\n",
    "                 \"nachname\":fake.last_name(),\n",
    "                 \"strasse\":fake.street_name(),\n",
    "                 \"hausnummer\":fake.building_number(),\n",
    "                 \"postleitzahl\":fake.postcode(),\n",
    "                 \"ort\":fake.city(), \n",
    "                 \"email\":fake.email()} for x in range(num)]\n",
    "         \n",
    "\n",
    "df = pd.DataFrame(dummy_rows(100))\n",
    "df"
   ]
  },
  {
   "cell_type": "markdown",
   "execution_count": null,
   "metadata": {},
   "outputs": [],
   "source": [
    "## Daten anonymisieren"
   ]
  },
  {
   "cell_type": "code",
   "execution_count": 48,
   "metadata": {},
   "outputs": [
    {
     "data": {
      "text/html": "<div>\n<style scoped>\n    .dataframe tbody tr th:only-of-type {\n        vertical-align: middle;\n    }\n\n    .dataframe tbody tr th {\n        vertical-align: top;\n    }\n\n    .dataframe thead th {\n        text-align: right;\n    }\n</style>\n<table border=\"1\" class=\"dataframe\">\n  <thead>\n    <tr style=\"text-align: right;\">\n      <th></th>\n      <th>vorname</th>\n      <th>nachname</th>\n      <th>strasse</th>\n      <th>hausnummer</th>\n      <th>postleitzahl</th>\n      <th>ort</th>\n      <th>email</th>\n    </tr>\n  </thead>\n  <tbody>\n    <tr>\n      <th>0</th>\n      <td>Corina</td>\n      <td>Süßebier</td>\n      <td>Staudeplatz</td>\n      <td>549</td>\n      <td>63689</td>\n      <td>Günzburg</td>\n      <td>reingard46@thies.net</td>\n    </tr>\n    <tr>\n      <th>1</th>\n      <td>Leni</td>\n      <td>Benthin</td>\n      <td>Marko-Freudenberger-Ring</td>\n      <td>6/6</td>\n      <td>44388</td>\n      <td>Belzig</td>\n      <td>guenterortmann@christoph.de</td>\n    </tr>\n    <tr>\n      <th>2</th>\n      <td>Ottilie</td>\n      <td>Dowerg</td>\n      <td>Natali-Stadelmann-Allee</td>\n      <td>0</td>\n      <td>43450</td>\n      <td>Hammelburg</td>\n      <td>hsoeding@jacobi.com</td>\n    </tr>\n    <tr>\n      <th>3</th>\n      <td>Cindy</td>\n      <td>Karge</td>\n      <td>Britta-Loos-Straße</td>\n      <td>4/5</td>\n      <td>96396</td>\n      <td>Paderborn</td>\n      <td>vjunken@gmx.de</td>\n    </tr>\n    <tr>\n      <th>4</th>\n      <td>Marica</td>\n      <td>Kruschwitz</td>\n      <td>Täschestraße</td>\n      <td>65</td>\n      <td>57246</td>\n      <td>Donaueschingen</td>\n      <td>kaethiboerner@wilms.net</td>\n    </tr>\n  </tbody>\n</table>\n</div>",
      "text/plain": "   vorname    nachname                   strasse hausnummer postleitzahl  \\\n0   Corina    Süßebier               Staudeplatz        549        63689   \n1     Leni     Benthin  Marko-Freudenberger-Ring        6/6        44388   \n2  Ottilie      Dowerg   Natali-Stadelmann-Allee          0        43450   \n3    Cindy       Karge        Britta-Loos-Straße        4/5        96396   \n4   Marica  Kruschwitz              Täschestraße         65        57246   \n\n              ort                        email  \n0        Günzburg         reingard46@thies.net  \n1          Belzig  guenterortmann@christoph.de  \n2      Hammelburg          hsoeding@jacobi.com  \n3       Paderborn               vjunken@gmx.de  \n4  Donaueschingen      kaethiboerner@wilms.net  "
     },
     "execution_count": 48,
     "metadata": {},
     "output_type": "execute_result"
    }
   ],
   "source": [
    "df = pd.DataFrame(dummy_rows(5))\n",
    "df"
   ]
  },
  {
   "cell_type": "code",
   "execution_count": 51,
   "metadata": {},
   "outputs": [
    {
     "data": {
      "text/html": "<div>\n<style scoped>\n    .dataframe tbody tr th:only-of-type {\n        vertical-align: middle;\n    }\n\n    .dataframe tbody tr th {\n        vertical-align: top;\n    }\n\n    .dataframe thead th {\n        text-align: right;\n    }\n</style>\n<table border=\"1\" class=\"dataframe\">\n  <thead>\n    <tr style=\"text-align: right;\">\n      <th></th>\n      <th>vorname</th>\n      <th>nachname</th>\n      <th>strasse</th>\n      <th>hausnummer</th>\n      <th>postleitzahl</th>\n      <th>ort</th>\n      <th>email</th>\n    </tr>\n  </thead>\n  <tbody>\n    <tr>\n      <th>0</th>\n      <td>Jenny</td>\n      <td>Jenny</td>\n      <td>Eigenwilligallee</td>\n      <td>3/1</td>\n      <td>63689</td>\n      <td>Günzburg</td>\n      <td>reingard46@thies.net</td>\n    </tr>\n    <tr>\n      <th>1</th>\n      <td>Mona</td>\n      <td>Mona</td>\n      <td>Vogtallee</td>\n      <td>5</td>\n      <td>44388</td>\n      <td>Belzig</td>\n      <td>guenterortmann@christoph.de</td>\n    </tr>\n    <tr>\n      <th>2</th>\n      <td>Wolf-Rüdiger</td>\n      <td>Wolf-Rüdiger</td>\n      <td>Zobelgasse</td>\n      <td>70</td>\n      <td>43450</td>\n      <td>Hammelburg</td>\n      <td>hsoeding@jacobi.com</td>\n    </tr>\n    <tr>\n      <th>3</th>\n      <td>Hans-Josef</td>\n      <td>Hans-Josef</td>\n      <td>Antonino-Schmidtke-Ring</td>\n      <td>5/5</td>\n      <td>96396</td>\n      <td>Paderborn</td>\n      <td>vjunken@gmx.de</td>\n    </tr>\n    <tr>\n      <th>4</th>\n      <td>Krystyna</td>\n      <td>Krystyna</td>\n      <td>Weinholdgasse</td>\n      <td>1/1</td>\n      <td>57246</td>\n      <td>Donaueschingen</td>\n      <td>kaethiboerner@wilms.net</td>\n    </tr>\n  </tbody>\n</table>\n</div>",
      "text/plain": "        vorname      nachname                  strasse hausnummer  \\\n0         Jenny         Jenny         Eigenwilligallee        3/1   \n1          Mona          Mona                Vogtallee          5   \n2  Wolf-Rüdiger  Wolf-Rüdiger               Zobelgasse         70   \n3    Hans-Josef    Hans-Josef  Antonino-Schmidtke-Ring        5/5   \n4      Krystyna      Krystyna            Weinholdgasse        1/1   \n\n  postleitzahl             ort                        email  \n0        63689        Günzburg         reingard46@thies.net  \n1        44388          Belzig  guenterortmann@christoph.de  \n2        43450      Hammelburg          hsoeding@jacobi.com  \n3        96396       Paderborn               vjunken@gmx.de  \n4        57246  Donaueschingen      kaethiboerner@wilms.net  "
     },
     "execution_count": 51,
     "metadata": {},
     "output_type": "execute_result"
    }
   ],
   "source": [
    "fake = Faker(\"de_DE\")\n",
    "def update_map(key, map, fake_method):\n",
    "    key = key.lower()\n",
    "    if key not in map:\n",
    "        map[key] = fake_method()  \n",
    "    return map[key], map\n",
    "\n",
    "map_vorname = map_nachname = map_strasse = map_hausnummer = {}\n",
    "for i, row in df.iterrows():\n",
    "    # vorname und nachname\n",
    "    \n",
    "    key = row['vorname'] + row['nachname']\n",
    "    vorname, map_vorname = update_map(key, map_vorname, fake.first_name)\n",
    "    nachname, map_nachname = update_map(key, map_nachname, fake.last_name)\n",
    "    strasse, map_strasse = update_map(row['strasse'], map_strasse, fake.street_name)\n",
    "    hausnummer, map_hausnummer = update_map(row['hausnummer'], map_hausnummer, fake.building_number)\n",
    "    df.at[i,'vorname'] = vorname\n",
    "    df.at[i,'nachname'] = nachname\n",
    "    df.at[i,'strasse'] = strasse\n",
    "    df.at[i,'hausnummer'] = hausnummer\n",
    "\n",
    "df"
   ]
  },
  {
   "cell_type": "code",
   "execution_count": null,
   "metadata": {},
   "outputs": [],
   "source": []
  }
 ]
}