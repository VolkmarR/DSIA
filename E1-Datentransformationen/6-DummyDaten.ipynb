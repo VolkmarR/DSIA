{
 "nbformat": 4,
 "nbformat_minor": 2,
 "metadata": {
  "language_info": {
   "name": "python",
   "codemirror_mode": {
    "name": "ipython",
    "version": 3
   },
   "version": "3.7.4-final"
  },
  "orig_nbformat": 2,
  "file_extension": ".py",
  "mimetype": "text/x-python",
  "name": "python",
  "npconvert_exporter": "python",
  "pygments_lexer": "ipython3",
  "version": 3,
  "kernelspec": {
   "name": "python37464bitprogramdatavirtualenv66c620b5b8934363be0077bf0009f025",
   "display_name": "Python 3.7.4 64-bit ('ProgramData': virtualenv)"
  }
 },
 "cells": [
  {
   "cell_type": "markdown",
   "execution_count": null,
   "metadata": {},
   "outputs": [],
   "source": [
    "# Dummy Daten\n",
    "\n",
    "## Initialisierung"
   ]
  },
  {
   "cell_type": "code",
   "execution_count": 1,
   "metadata": {},
   "outputs": [],
   "source": [
    "from faker import Faker\n",
    "import pandas as pd"
   ]
  },
  {
   "cell_type": "markdown",
   "execution_count": null,
   "metadata": {},
   "outputs": [],
   "source": [
    "## Dummy Daten Erzeuzgen"
   ]
  },
  {
   "cell_type": "code",
   "execution_count": 2,
   "metadata": {},
   "outputs": [
    {
     "name": "stdout",
     "output_type": "stream",
     "text": "Name: Manuel Rhodes\nItalian name: Dott. Amico Solari \nIBan: GB31ZEGB48659906987969\nCredit card number: 3523218949883755\nEmail:  alexanderhopkins@gmail.com\n"
    }
   ],
   "source": [
    "fake = Faker()\n",
    "fake_it = Faker('it_IT')\n",
    "print(\"Name: \" + fake.name())\n",
    "print(\"Italian name: \" + fake_it.name())\n",
    "print(\"IBan: \" + fake.iban())\n",
    "print(\"Credit card number: \" + fake.credit_card_number())\n",
    "print(\"Email: \", fake.email())"
   ]
  },
  {
   "cell_type": "markdown",
   "execution_count": null,
   "metadata": {},
   "outputs": [],
   "source": [
    "## Dummy Dataset erzeugen"
   ]
  },
  {
   "cell_type": "code",
   "execution_count": 3,
   "metadata": {},
   "outputs": [
    {
     "data": {
      "text/html": "<div>\n<style scoped>\n    .dataframe tbody tr th:only-of-type {\n        vertical-align: middle;\n    }\n\n    .dataframe tbody tr th {\n        vertical-align: top;\n    }\n\n    .dataframe thead th {\n        text-align: right;\n    }\n</style>\n<table border=\"1\" class=\"dataframe\">\n  <thead>\n    <tr style=\"text-align: right;\">\n      <th></th>\n      <th>vorname</th>\n      <th>nachname</th>\n      <th>strasse</th>\n      <th>hausnummer</th>\n      <th>postleitzahl</th>\n      <th>ort</th>\n      <th>email</th>\n    </tr>\n  </thead>\n  <tbody>\n    <tr>\n      <th>0</th>\n      <td>Gustav</td>\n      <td>Heser</td>\n      <td>Paulo-Wesack-Weg</td>\n      <td>54</td>\n      <td>93754</td>\n      <td>Hansestadttralsund</td>\n      <td>henckrocco@wilmsen.org</td>\n    </tr>\n    <tr>\n      <th>1</th>\n      <td>Steve</td>\n      <td>Losekann</td>\n      <td>Ian-auch Schlauchin-Ring</td>\n      <td>40</td>\n      <td>12611</td>\n      <td>Northeim</td>\n      <td>svea81@web.de</td>\n    </tr>\n    <tr>\n      <th>2</th>\n      <td>Heinz-Wilhelm</td>\n      <td>Klemt</td>\n      <td>Melissa-Paffrath-Gasse</td>\n      <td>2/0</td>\n      <td>24448</td>\n      <td>Wittmund</td>\n      <td>zlosekann@roemer.com</td>\n    </tr>\n    <tr>\n      <th>3</th>\n      <td>Sandra</td>\n      <td>Liebelt</td>\n      <td>Gitta-Pieper-Allee</td>\n      <td>1</td>\n      <td>46599</td>\n      <td>Burgdorf</td>\n      <td>heydrichgerlind@googlemail.com</td>\n    </tr>\n    <tr>\n      <th>4</th>\n      <td>Elisabet</td>\n      <td>Girschner</td>\n      <td>Sigismund-Roskoth-Allee</td>\n      <td>3/1</td>\n      <td>98787</td>\n      <td>Freudenstadt</td>\n      <td>freudenbergerhiltraud@beer.de</td>\n    </tr>\n    <tr>\n      <th>...</th>\n      <td>...</td>\n      <td>...</td>\n      <td>...</td>\n      <td>...</td>\n      <td>...</td>\n      <td>...</td>\n      <td>...</td>\n    </tr>\n    <tr>\n      <th>95</th>\n      <td>Leo</td>\n      <td>Harloff</td>\n      <td>Strohplatz</td>\n      <td>6/3</td>\n      <td>00117</td>\n      <td>Borken</td>\n      <td>gertrudstroh@yahoo.de</td>\n    </tr>\n    <tr>\n      <th>96</th>\n      <td>Kenan</td>\n      <td>Wilms</td>\n      <td>Helena-Bachmann-Platz</td>\n      <td>2/5</td>\n      <td>39929</td>\n      <td>Roth</td>\n      <td>berthazahn@neuschaefer.com</td>\n    </tr>\n    <tr>\n      <th>97</th>\n      <td>Carlo</td>\n      <td>Warmer</td>\n      <td>Hübelstr.</td>\n      <td>8</td>\n      <td>04237</td>\n      <td>Hünfeld</td>\n      <td>francescojunitz@boucsein.org</td>\n    </tr>\n    <tr>\n      <th>98</th>\n      <td>Dominic</td>\n      <td>Röhrdanz</td>\n      <td>Zehra-Bruder-Ring</td>\n      <td>5/6</td>\n      <td>93012</td>\n      <td>Sankt Goar</td>\n      <td>goetzvan-der-dussen@hornich.de</td>\n    </tr>\n    <tr>\n      <th>99</th>\n      <td>Felizitas</td>\n      <td>Hentschel</td>\n      <td>Kallertweg</td>\n      <td>8</td>\n      <td>05420</td>\n      <td>Hoyerswerda</td>\n      <td>yholt@aol.de</td>\n    </tr>\n  </tbody>\n</table>\n<p>100 rows × 7 columns</p>\n</div>",
      "text/plain": "          vorname   nachname                   strasse hausnummer  \\\n0          Gustav      Heser          Paulo-Wesack-Weg         54   \n1           Steve   Losekann  Ian-auch Schlauchin-Ring         40   \n2   Heinz-Wilhelm      Klemt    Melissa-Paffrath-Gasse        2/0   \n3          Sandra    Liebelt        Gitta-Pieper-Allee          1   \n4        Elisabet  Girschner   Sigismund-Roskoth-Allee        3/1   \n..            ...        ...                       ...        ...   \n95            Leo    Harloff                Strohplatz        6/3   \n96          Kenan      Wilms     Helena-Bachmann-Platz        2/5   \n97          Carlo     Warmer                 Hübelstr.          8   \n98        Dominic   Röhrdanz         Zehra-Bruder-Ring        5/6   \n99      Felizitas  Hentschel                Kallertweg          8   \n\n   postleitzahl                 ort                           email  \n0         93754  Hansestadttralsund          henckrocco@wilmsen.org  \n1         12611            Northeim                   svea81@web.de  \n2         24448            Wittmund            zlosekann@roemer.com  \n3         46599            Burgdorf  heydrichgerlind@googlemail.com  \n4         98787        Freudenstadt   freudenbergerhiltraud@beer.de  \n..          ...                 ...                             ...  \n95        00117              Borken           gertrudstroh@yahoo.de  \n96        39929                Roth      berthazahn@neuschaefer.com  \n97        04237             Hünfeld    francescojunitz@boucsein.org  \n98        93012          Sankt Goar  goetzvan-der-dussen@hornich.de  \n99        05420         Hoyerswerda                    yholt@aol.de  \n\n[100 rows x 7 columns]"
     },
     "execution_count": 3,
     "metadata": {},
     "output_type": "execute_result"
    }
   ],
   "source": [
    "def dummy_rows(num=1):\n",
    "        fake = Faker(\"de_DE\")\n",
    "        return [{\"vorname\":fake.first_name(),\n",
    "                 \"nachname\":fake.last_name(),\n",
    "                 \"strasse\":fake.street_name(),\n",
    "                 \"hausnummer\":fake.building_number(),\n",
    "                 \"postleitzahl\":fake.postcode(),\n",
    "                 \"ort\":fake.city(), \n",
    "                 \"email\":fake.email()} for x in range(num)]\n",
    "         \n",
    "\n",
    "df = pd.DataFrame(dummy_rows(100))\n",
    "df"
   ]
  },
  {
   "cell_type": "markdown",
   "execution_count": null,
   "metadata": {},
   "outputs": [],
   "source": [
    "## Daten anonymisieren"
   ]
  },
  {
   "cell_type": "code",
   "execution_count": 4,
   "metadata": {},
   "outputs": [
    {
     "data": {
      "text/html": "<div>\n<style scoped>\n    .dataframe tbody tr th:only-of-type {\n        vertical-align: middle;\n    }\n\n    .dataframe tbody tr th {\n        vertical-align: top;\n    }\n\n    .dataframe thead th {\n        text-align: right;\n    }\n</style>\n<table border=\"1\" class=\"dataframe\">\n  <thead>\n    <tr style=\"text-align: right;\">\n      <th></th>\n      <th>vorname</th>\n      <th>nachname</th>\n      <th>strasse</th>\n      <th>hausnummer</th>\n      <th>postleitzahl</th>\n      <th>ort</th>\n      <th>email</th>\n    </tr>\n  </thead>\n  <tbody>\n    <tr>\n      <th>0</th>\n      <td>Hans-Christian</td>\n      <td>Seip</td>\n      <td>Döhnallee</td>\n      <td>294</td>\n      <td>90711</td>\n      <td>Ludwigslust</td>\n      <td>wernerrogner@googlemail.com</td>\n    </tr>\n    <tr>\n      <th>1</th>\n      <td>Klaas</td>\n      <td>Döhn</td>\n      <td>Heckerstraße</td>\n      <td>436</td>\n      <td>94847</td>\n      <td>Griesbach Rottal</td>\n      <td>ehrentrauddoerr@rosemann.de</td>\n    </tr>\n    <tr>\n      <th>2</th>\n      <td>Bela</td>\n      <td>Fechner</td>\n      <td>Thea-Eberth-Gasse</td>\n      <td>3/0</td>\n      <td>70231</td>\n      <td>Griesbach Rottal</td>\n      <td>birte54@mohaupt.net</td>\n    </tr>\n    <tr>\n      <th>3</th>\n      <td>Donata</td>\n      <td>Berger</td>\n      <td>Conradistraße</td>\n      <td>9/0</td>\n      <td>46932</td>\n      <td>Diepholz</td>\n      <td>traude64@yahoo.de</td>\n    </tr>\n    <tr>\n      <th>4</th>\n      <td>Eugenie</td>\n      <td>Mosemann</td>\n      <td>Binnerring</td>\n      <td>0/0</td>\n      <td>25993</td>\n      <td>Neustrelitz</td>\n      <td>edelbertniemeier@googlemail.com</td>\n    </tr>\n  </tbody>\n</table>\n</div>",
      "text/plain": "          vorname  nachname            strasse hausnummer postleitzahl  \\\n0  Hans-Christian      Seip          Döhnallee        294        90711   \n1           Klaas      Döhn       Heckerstraße        436        94847   \n2            Bela   Fechner  Thea-Eberth-Gasse        3/0        70231   \n3          Donata    Berger      Conradistraße        9/0        46932   \n4         Eugenie  Mosemann         Binnerring        0/0        25993   \n\n                ort                            email  \n0       Ludwigslust      wernerrogner@googlemail.com  \n1  Griesbach Rottal      ehrentrauddoerr@rosemann.de  \n2  Griesbach Rottal              birte54@mohaupt.net  \n3          Diepholz                traude64@yahoo.de  \n4       Neustrelitz  edelbertniemeier@googlemail.com  "
     },
     "execution_count": 4,
     "metadata": {},
     "output_type": "execute_result"
    }
   ],
   "source": [
    "df = pd.DataFrame(dummy_rows(5))\n",
    "df"
   ]
  },
  {
   "cell_type": "code",
   "execution_count": 5,
   "metadata": {},
   "outputs": [
    {
     "data": {
      "text/html": "<div>\n<style scoped>\n    .dataframe tbody tr th:only-of-type {\n        vertical-align: middle;\n    }\n\n    .dataframe tbody tr th {\n        vertical-align: top;\n    }\n\n    .dataframe thead th {\n        text-align: right;\n    }\n</style>\n<table border=\"1\" class=\"dataframe\">\n  <thead>\n    <tr style=\"text-align: right;\">\n      <th></th>\n      <th>vorname</th>\n      <th>nachname</th>\n      <th>strasse</th>\n      <th>hausnummer</th>\n      <th>postleitzahl</th>\n      <th>ort</th>\n      <th>email</th>\n    </tr>\n  </thead>\n  <tbody>\n    <tr>\n      <th>0</th>\n      <td>Richard</td>\n      <td>Ritter</td>\n      <td>Dieter-Scheuermann-Straße</td>\n      <td>3/9</td>\n      <td>90711</td>\n      <td>Ludwigslust</td>\n      <td>wernerrogner@googlemail.com</td>\n    </tr>\n    <tr>\n      <th>1</th>\n      <td>Frank-Peter</td>\n      <td>Biggen</td>\n      <td>Karl-Hermann-Ernst-Ring</td>\n      <td>22</td>\n      <td>94847</td>\n      <td>Griesbach Rottal</td>\n      <td>ehrentrauddoerr@rosemann.de</td>\n    </tr>\n    <tr>\n      <th>2</th>\n      <td>Milica</td>\n      <td>Stey</td>\n      <td>Serpil-Jäkel-Platz</td>\n      <td>643</td>\n      <td>70231</td>\n      <td>Griesbach Rottal</td>\n      <td>birte54@mohaupt.net</td>\n    </tr>\n    <tr>\n      <th>3</th>\n      <td>Emil</td>\n      <td>Bolnbach</td>\n      <td>Thorben-Pergande-Weg</td>\n      <td>5</td>\n      <td>46932</td>\n      <td>Diepholz</td>\n      <td>traude64@yahoo.de</td>\n    </tr>\n    <tr>\n      <th>4</th>\n      <td>Claus</td>\n      <td>Lorch</td>\n      <td>Monika-Binner-Ring</td>\n      <td>09</td>\n      <td>25993</td>\n      <td>Neustrelitz</td>\n      <td>edelbertniemeier@googlemail.com</td>\n    </tr>\n  </tbody>\n</table>\n</div>",
      "text/plain": "       vorname  nachname                    strasse hausnummer postleitzahl  \\\n0      Richard    Ritter  Dieter-Scheuermann-Straße        3/9        90711   \n1  Frank-Peter    Biggen    Karl-Hermann-Ernst-Ring         22        94847   \n2       Milica      Stey         Serpil-Jäkel-Platz        643        70231   \n3         Emil  Bolnbach       Thorben-Pergande-Weg          5        46932   \n4        Claus     Lorch         Monika-Binner-Ring         09        25993   \n\n                ort                            email  \n0       Ludwigslust      wernerrogner@googlemail.com  \n1  Griesbach Rottal      ehrentrauddoerr@rosemann.de  \n2  Griesbach Rottal              birte54@mohaupt.net  \n3          Diepholz                traude64@yahoo.de  \n4       Neustrelitz  edelbertniemeier@googlemail.com  "
     },
     "execution_count": 5,
     "metadata": {},
     "output_type": "execute_result"
    }
   ],
   "source": [
    "fake = Faker(\"de_DE\")\n",
    "def update_map(key, map, fake_method):\n",
    "    key = key.lower()\n",
    "    if key not in map:\n",
    "        map[key] = fake_method()  \n",
    "    return map[key], map\n",
    "\n",
    "map_vorname = {}\n",
    "map_nachname = {}\n",
    "map_strasse = {}\n",
    "map_hausnummer = {}\n",
    "for i, row in df.iterrows():\n",
    "    # vorname und nachname\n",
    "    \n",
    "    key = row['vorname'] + row['nachname']\n",
    "    vorname, map_vorname = update_map(key, map_vorname, fake.first_name)\n",
    "    nachname, map_nachname = update_map(key, map_nachname, fake.last_name)\n",
    "    strasse, map_strasse = update_map(row['strasse'], map_strasse, fake.street_name)\n",
    "    hausnummer, map_hausnummer = update_map(row['hausnummer'], map_hausnummer, fake.building_number)\n",
    "    df.at[i,'vorname'] = vorname\n",
    "    df.at[i,'nachname'] = nachname\n",
    "    df.at[i,'strasse'] = strasse\n",
    "    df.at[i,'hausnummer'] = hausnummer\n",
    "\n",
    "df"
   ]
  },
  {
   "cell_type": "code",
   "execution_count": null,
   "metadata": {},
   "outputs": [],
   "source": []
  }
 ]
}