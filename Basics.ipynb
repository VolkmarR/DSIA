{
 "nbformat": 4,
 "nbformat_minor": 2,
 "metadata": {
  "language_info": {
   "name": "python",
   "codemirror_mode": {
    "name": "ipython",
    "version": 3
   },
   "version": "3.7.4"
  },
  "orig_nbformat": 2,
  "file_extension": ".py",
  "mimetype": "text/x-python",
  "name": "python",
  "npconvert_exporter": "python",
  "pygments_lexer": "ipython3",
  "version": 3
 },
 "cells": [
  {
   "cell_type": "markdown",
   "execution_count": null,
   "metadata": {},
   "outputs": [],
   "source": [
    "# Basics\n",
    "\n",
    "## Initialisierung"
   ]
  },
  {
   "cell_type": "code",
   "execution_count": 78,
   "metadata": {},
   "outputs": [],
   "source": [
    "import pandas as pd\n",
    "from datetime import date, datetime\n",
    "from sklearn import preprocessing\n"
   ]
  },
  {
   "cell_type": "code",
   "execution_count": 79,
   "metadata": {},
   "outputs": [
    {
     "data": {
      "text/html": "<div>\n<style scoped>\n    .dataframe tbody tr th:only-of-type {\n        vertical-align: middle;\n    }\n\n    .dataframe tbody tr th {\n        vertical-align: top;\n    }\n\n    .dataframe thead th {\n        text-align: right;\n    }\n</style>\n<table border=\"1\" class=\"dataframe\">\n  <thead>\n    <tr style=\"text-align: right;\">\n      <th></th>\n      <th>nam</th>\n      <th>gebdat</th>\n      <th>stud</th>\n    </tr>\n  </thead>\n  <tbody>\n    <tr>\n      <th>0</th>\n      <td>Pers A</td>\n      <td>1974-01-01</td>\n      <td>wahr</td>\n    </tr>\n    <tr>\n      <th>1</th>\n      <td>Pers B</td>\n      <td>1976-01-01</td>\n      <td>falsch</td>\n    </tr>\n    <tr>\n      <th>2</th>\n      <td>Pers C</td>\n      <td>1979-01-01</td>\n      <td>wahr</td>\n    </tr>\n  </tbody>\n</table>\n</div>",
      "text/plain": "      nam     gebdat    stud\n0  Pers A 1974-01-01    wahr\n1  Pers B 1976-01-01  falsch\n2  Pers C 1979-01-01    wahr"
     },
     "execution_count": 79,
     "metadata": {},
     "output_type": "execute_result"
    }
   ],
   "source": [
    "df = pd.DataFrame({\"nam\": [\"Pers A\", \"Pers B\", \"Pers C\"], \"gebdat\": [datetime(1974, 1, 1), datetime(1976, 1, 1), datetime(1979, 1, 1)], \"stud\": [\"wahr\", \"falsch\", \"wahr\"]})\n",
    "df"
   ]
  },
  {
   "cell_type": "markdown",
   "execution_count": null,
   "metadata": {},
   "outputs": [],
   "source": [
    "## Projektionen\n",
    "### Spalten umbenennen"
   ]
  },
  {
   "cell_type": "code",
   "execution_count": 80,
   "metadata": {},
   "outputs": [
    {
     "data": {
      "text/html": "<div>\n<style scoped>\n    .dataframe tbody tr th:only-of-type {\n        vertical-align: middle;\n    }\n\n    .dataframe tbody tr th {\n        vertical-align: top;\n    }\n\n    .dataframe thead th {\n        text-align: right;\n    }\n</style>\n<table border=\"1\" class=\"dataframe\">\n  <thead>\n    <tr style=\"text-align: right;\">\n      <th></th>\n      <th>Name</th>\n      <th>Geburtstag</th>\n      <th>Student</th>\n    </tr>\n  </thead>\n  <tbody>\n    <tr>\n      <th>0</th>\n      <td>Pers A</td>\n      <td>1974-01-01</td>\n      <td>wahr</td>\n    </tr>\n    <tr>\n      <th>1</th>\n      <td>Pers B</td>\n      <td>1976-01-01</td>\n      <td>falsch</td>\n    </tr>\n    <tr>\n      <th>2</th>\n      <td>Pers C</td>\n      <td>1979-01-01</td>\n      <td>wahr</td>\n    </tr>\n  </tbody>\n</table>\n</div>",
      "text/plain": "     Name Geburtstag Student\n0  Pers A 1974-01-01    wahr\n1  Pers B 1976-01-01  falsch\n2  Pers C 1979-01-01    wahr"
     },
     "execution_count": 80,
     "metadata": {},
     "output_type": "execute_result"
    }
   ],
   "source": [
    "df = df.rename(columns={\"nam\": \"Name\", \"gebdat\": \"Geburtstag\", \"stud\": \"Student\"})\n",
    "df"
   ]
  },
  {
   "cell_type": "markdown",
   "execution_count": 52,
   "metadata": {},
   "outputs": [],
   "source": [
    "### Spalte hinzufügen"
   ]
  },
  {
   "cell_type": "code",
   "execution_count": 81,
   "metadata": {},
   "outputs": [
    {
     "data": {
      "text/html": "<div>\n<style scoped>\n    .dataframe tbody tr th:only-of-type {\n        vertical-align: middle;\n    }\n\n    .dataframe tbody tr th {\n        vertical-align: top;\n    }\n\n    .dataframe thead th {\n        text-align: right;\n    }\n</style>\n<table border=\"1\" class=\"dataframe\">\n  <thead>\n    <tr style=\"text-align: right;\">\n      <th></th>\n      <th>Name</th>\n      <th>Geburtstag</th>\n      <th>Student</th>\n      <th>Alter</th>\n    </tr>\n  </thead>\n  <tbody>\n    <tr>\n      <th>0</th>\n      <td>Pers A</td>\n      <td>1974-01-01</td>\n      <td>wahr</td>\n      <td>45</td>\n    </tr>\n    <tr>\n      <th>1</th>\n      <td>Pers B</td>\n      <td>1976-01-01</td>\n      <td>falsch</td>\n      <td>43</td>\n    </tr>\n    <tr>\n      <th>2</th>\n      <td>Pers C</td>\n      <td>1979-01-01</td>\n      <td>wahr</td>\n      <td>40</td>\n    </tr>\n  </tbody>\n</table>\n</div>",
      "text/plain": "     Name Geburtstag Student  Alter\n0  Pers A 1974-01-01    wahr     45\n1  Pers B 1976-01-01  falsch     43\n2  Pers C 1979-01-01    wahr     40"
     },
     "execution_count": 81,
     "metadata": {},
     "output_type": "execute_result"
    }
   ],
   "source": [
    "today = date.today() \n",
    "def calculateAge(birthDate): \n",
    "    return today.year - birthDate.year - ((today.month, today.day) < (birthDate.month, birthDate.day))\n",
    "\n",
    "df[\"Alter\"] = df.Geburtstag.apply(calculateAge)\n",
    "df"
   ]
  },
  {
   "cell_type": "markdown",
   "execution_count": null,
   "metadata": {},
   "outputs": [],
   "source": [
    "### Spalte entfernen"
   ]
  },
  {
   "cell_type": "code",
   "execution_count": 82,
   "metadata": {},
   "outputs": [
    {
     "data": {
      "text/html": "<div>\n<style scoped>\n    .dataframe tbody tr th:only-of-type {\n        vertical-align: middle;\n    }\n\n    .dataframe tbody tr th {\n        vertical-align: top;\n    }\n\n    .dataframe thead th {\n        text-align: right;\n    }\n</style>\n<table border=\"1\" class=\"dataframe\">\n  <thead>\n    <tr style=\"text-align: right;\">\n      <th></th>\n      <th>Name</th>\n      <th>Geburtstag</th>\n      <th>Student</th>\n    </tr>\n  </thead>\n  <tbody>\n    <tr>\n      <th>0</th>\n      <td>Pers A</td>\n      <td>1974-01-01</td>\n      <td>wahr</td>\n    </tr>\n    <tr>\n      <th>1</th>\n      <td>Pers B</td>\n      <td>1976-01-01</td>\n      <td>falsch</td>\n    </tr>\n    <tr>\n      <th>2</th>\n      <td>Pers C</td>\n      <td>1979-01-01</td>\n      <td>wahr</td>\n    </tr>\n  </tbody>\n</table>\n</div>",
      "text/plain": "     Name Geburtstag Student\n0  Pers A 1974-01-01    wahr\n1  Pers B 1976-01-01  falsch\n2  Pers C 1979-01-01    wahr"
     },
     "execution_count": 82,
     "metadata": {},
     "output_type": "execute_result"
    }
   ],
   "source": [
    "df = df.drop(columns=[\"Alter\"])\n",
    "df"
   ]
  },
  {
   "cell_type": "markdown",
   "execution_count": null,
   "metadata": {},
   "outputs": [],
   "source": [
    "## Wertkonvertierung"
   ]
  },
  {
   "cell_type": "code",
   "execution_count": 83,
   "metadata": {},
   "outputs": [
    {
     "data": {
      "text/html": "<div>\n<style scoped>\n    .dataframe tbody tr th:only-of-type {\n        vertical-align: middle;\n    }\n\n    .dataframe tbody tr th {\n        vertical-align: top;\n    }\n\n    .dataframe thead th {\n        text-align: right;\n    }\n</style>\n<table border=\"1\" class=\"dataframe\">\n  <thead>\n    <tr style=\"text-align: right;\">\n      <th></th>\n      <th>Name</th>\n      <th>Geburtstag</th>\n      <th>Student</th>\n    </tr>\n  </thead>\n  <tbody>\n    <tr>\n      <th>0</th>\n      <td>Pers A</td>\n      <td>1974-01-01</td>\n      <td>1</td>\n    </tr>\n    <tr>\n      <th>1</th>\n      <td>Pers B</td>\n      <td>1976-01-01</td>\n      <td>0</td>\n    </tr>\n    <tr>\n      <th>2</th>\n      <td>Pers C</td>\n      <td>1979-01-01</td>\n      <td>1</td>\n    </tr>\n  </tbody>\n</table>\n</div>",
      "text/plain": "     Name Geburtstag  Student\n0  Pers A 1974-01-01        1\n1  Pers B 1976-01-01        0\n2  Pers C 1979-01-01        1"
     },
     "execution_count": 83,
     "metadata": {},
     "output_type": "execute_result"
    }
   ],
   "source": [
    "map = { \"wahr\": 1, \"falsch\": 0 }\n",
    "df[\"Student\"] = df[\"Student\"].apply(lambda x: map[x])\n",
    "df\n"
   ]
  },
  {
   "cell_type": "markdown",
   "execution_count": null,
   "metadata": {},
   "outputs": [],
   "source": [
    "## Daten kombinieren"
   ]
  },
  {
   "cell_type": "code",
   "execution_count": 86,
   "metadata": {},
   "outputs": [
    {
     "data": {
      "text/html": "<div>\n<style scoped>\n    .dataframe tbody tr th:only-of-type {\n        vertical-align: middle;\n    }\n\n    .dataframe tbody tr th {\n        vertical-align: top;\n    }\n\n    .dataframe thead th {\n        text-align: right;\n    }\n</style>\n<table border=\"1\" class=\"dataframe\">\n  <thead>\n    <tr style=\"text-align: right;\">\n      <th></th>\n      <th>Name</th>\n      <th>Ort</th>\n    </tr>\n  </thead>\n  <tbody>\n    <tr>\n      <th>0</th>\n      <td>Pers A</td>\n      <td>Bruneck</td>\n    </tr>\n    <tr>\n      <th>1</th>\n      <td>Pers B</td>\n      <td>Brixen</td>\n    </tr>\n    <tr>\n      <th>2</th>\n      <td>Pers D</td>\n      <td>Kufstein</td>\n    </tr>\n  </tbody>\n</table>\n</div>",
      "text/plain": "     Name       Ort\n0  Pers A   Bruneck\n1  Pers B    Brixen\n2  Pers D  Kufstein"
     },
     "execution_count": 86,
     "metadata": {},
     "output_type": "execute_result"
    }
   ],
   "source": [
    "df2 = pd.DataFrame({\"Name\": [\"Pers A\", \"Pers B\", \"Pers D\"], \"Ort\": [\"Bruneck\", \"Brixen\", \"Kufstein\"]})\n",
    "df2"
   ]
  },
  {
   "cell_type": "markdown",
   "execution_count": null,
   "metadata": {},
   "outputs": [],
   "source": [
    "### Inner Join"
   ]
  },
  {
   "cell_type": "code",
   "execution_count": 89,
   "metadata": {},
   "outputs": [
    {
     "data": {
      "text/html": "<div>\n<style scoped>\n    .dataframe tbody tr th:only-of-type {\n        vertical-align: middle;\n    }\n\n    .dataframe tbody tr th {\n        vertical-align: top;\n    }\n\n    .dataframe thead th {\n        text-align: right;\n    }\n</style>\n<table border=\"1\" class=\"dataframe\">\n  <thead>\n    <tr style=\"text-align: right;\">\n      <th></th>\n      <th>Name</th>\n      <th>Geburtstag</th>\n      <th>Student</th>\n      <th>Ort</th>\n    </tr>\n  </thead>\n  <tbody>\n    <tr>\n      <th>0</th>\n      <td>Pers A</td>\n      <td>1974-01-01</td>\n      <td>1</td>\n      <td>Bruneck</td>\n    </tr>\n    <tr>\n      <th>1</th>\n      <td>Pers B</td>\n      <td>1976-01-01</td>\n      <td>0</td>\n      <td>Brixen</td>\n    </tr>\n  </tbody>\n</table>\n</div>",
      "text/plain": "     Name Geburtstag  Student      Ort\n0  Pers A 1974-01-01        1  Bruneck\n1  Pers B 1976-01-01        0   Brixen"
     },
     "execution_count": 89,
     "metadata": {},
     "output_type": "execute_result"
    }
   ],
   "source": [
    "pd.merge(df, df2, left_on=\"Name\", right_on=\"Name\")"
   ]
  },
  {
   "cell_type": "markdown",
   "execution_count": null,
   "metadata": {},
   "outputs": [],
   "source": [
    "### Left outer join"
   ]
  },
  {
   "cell_type": "code",
   "execution_count": 92,
   "metadata": {},
   "outputs": [
    {
     "data": {
      "text/html": "<div>\n<style scoped>\n    .dataframe tbody tr th:only-of-type {\n        vertical-align: middle;\n    }\n\n    .dataframe tbody tr th {\n        vertical-align: top;\n    }\n\n    .dataframe thead th {\n        text-align: right;\n    }\n</style>\n<table border=\"1\" class=\"dataframe\">\n  <thead>\n    <tr style=\"text-align: right;\">\n      <th></th>\n      <th>Name</th>\n      <th>Geburtstag</th>\n      <th>Student</th>\n      <th>Ort</th>\n    </tr>\n  </thead>\n  <tbody>\n    <tr>\n      <th>0</th>\n      <td>Pers A</td>\n      <td>1974-01-01</td>\n      <td>1</td>\n      <td>Bruneck</td>\n    </tr>\n    <tr>\n      <th>1</th>\n      <td>Pers B</td>\n      <td>1976-01-01</td>\n      <td>0</td>\n      <td>Brixen</td>\n    </tr>\n    <tr>\n      <th>2</th>\n      <td>Pers C</td>\n      <td>1979-01-01</td>\n      <td>1</td>\n      <td>NaN</td>\n    </tr>\n  </tbody>\n</table>\n</div>",
      "text/plain": "     Name Geburtstag  Student      Ort\n0  Pers A 1974-01-01        1  Bruneck\n1  Pers B 1976-01-01        0   Brixen\n2  Pers C 1979-01-01        1      NaN"
     },
     "execution_count": 92,
     "metadata": {},
     "output_type": "execute_result"
    }
   ],
   "source": [
    "pd.merge(df, df2, on=\"Name\", how=\"left\")"
   ]
  },
  {
   "cell_type": "code",
   "execution_count": null,
   "metadata": {},
   "outputs": [],
   "source": []
  }
 ]
}