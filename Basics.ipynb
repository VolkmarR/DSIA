{
 "nbformat": 4,
 "nbformat_minor": 2,
 "metadata": {
  "language_info": {
   "name": "python",
   "codemirror_mode": {
    "name": "ipython",
    "version": 3
   },
   "version": "3.7.4"
  },
  "orig_nbformat": 2,
  "file_extension": ".py",
  "mimetype": "text/x-python",
  "name": "python",
  "npconvert_exporter": "python",
  "pygments_lexer": "ipython3",
  "version": 3
 },
 "cells": [
  {
   "cell_type": "markdown",
   "execution_count": null,
   "metadata": {},
   "outputs": [],
   "source": [
    "# Basics\n",
    "\n",
    "## Initialisierung"
   ]
  },
  {
   "cell_type": "code",
   "execution_count": 2,
   "metadata": {},
   "outputs": [],
   "source": [
    "import pandas as pd\n",
    "from datetime import date, datetime\n",
    "from sklearn import preprocessing\n"
   ]
  },
  {
   "cell_type": "code",
   "execution_count": 79,
   "metadata": {},
   "outputs": [
    {
     "data": {
      "text/html": "<div>\n<style scoped>\n    .dataframe tbody tr th:only-of-type {\n        vertical-align: middle;\n    }\n\n    .dataframe tbody tr th {\n        vertical-align: top;\n    }\n\n    .dataframe thead th {\n        text-align: right;\n    }\n</style>\n<table border=\"1\" class=\"dataframe\">\n  <thead>\n    <tr style=\"text-align: right;\">\n      <th></th>\n      <th>nam</th>\n      <th>gebdat</th>\n      <th>stud</th>\n    </tr>\n  </thead>\n  <tbody>\n    <tr>\n      <th>0</th>\n      <td>Pers A</td>\n      <td>1974-01-01</td>\n      <td>wahr</td>\n    </tr>\n    <tr>\n      <th>1</th>\n      <td>Pers B</td>\n      <td>1976-01-01</td>\n      <td>falsch</td>\n    </tr>\n    <tr>\n      <th>2</th>\n      <td>Pers C</td>\n      <td>1979-01-01</td>\n      <td>wahr</td>\n    </tr>\n  </tbody>\n</table>\n</div>",
      "text/plain": "      nam     gebdat    stud\n0  Pers A 1974-01-01    wahr\n1  Pers B 1976-01-01  falsch\n2  Pers C 1979-01-01    wahr"
     },
     "execution_count": 79,
     "metadata": {},
     "output_type": "execute_result"
    }
   ],
   "source": [
    "df = pd.DataFrame({\"nam\": [\"Pers A\", \"Pers B\", \"Pers C\"], \"gebdat\": [datetime(1974, 1, 1), datetime(1976, 1, 1), datetime(1979, 1, 1)], \"stud\": [\"wahr\", \"falsch\", \"wahr\"]})\n",
    "df"
   ]
  },
  {
   "cell_type": "markdown",
   "execution_count": null,
   "metadata": {},
   "outputs": [],
   "source": [
    "## Projektionen\n",
    "### Spalten umbenennen"
   ]
  },
  {
   "cell_type": "code",
   "execution_count": 80,
   "metadata": {},
   "outputs": [
    {
     "data": {
      "text/html": "<div>\n<style scoped>\n    .dataframe tbody tr th:only-of-type {\n        vertical-align: middle;\n    }\n\n    .dataframe tbody tr th {\n        vertical-align: top;\n    }\n\n    .dataframe thead th {\n        text-align: right;\n    }\n</style>\n<table border=\"1\" class=\"dataframe\">\n  <thead>\n    <tr style=\"text-align: right;\">\n      <th></th>\n      <th>Name</th>\n      <th>Geburtstag</th>\n      <th>Student</th>\n    </tr>\n  </thead>\n  <tbody>\n    <tr>\n      <th>0</th>\n      <td>Pers A</td>\n      <td>1974-01-01</td>\n      <td>wahr</td>\n    </tr>\n    <tr>\n      <th>1</th>\n      <td>Pers B</td>\n      <td>1976-01-01</td>\n      <td>falsch</td>\n    </tr>\n    <tr>\n      <th>2</th>\n      <td>Pers C</td>\n      <td>1979-01-01</td>\n      <td>wahr</td>\n    </tr>\n  </tbody>\n</table>\n</div>",
      "text/plain": "     Name Geburtstag Student\n0  Pers A 1974-01-01    wahr\n1  Pers B 1976-01-01  falsch\n2  Pers C 1979-01-01    wahr"
     },
     "execution_count": 80,
     "metadata": {},
     "output_type": "execute_result"
    }
   ],
   "source": [
    "df = df.rename(columns={\"nam\": \"Name\", \"gebdat\": \"Geburtstag\", \"stud\": \"Student\"})\n",
    "df"
   ]
  },
  {
   "cell_type": "markdown",
   "execution_count": 52,
   "metadata": {},
   "outputs": [],
   "source": [
    "### Spalte hinzufügen"
   ]
  },
  {
   "cell_type": "code",
   "execution_count": 81,
   "metadata": {},
   "outputs": [
    {
     "data": {
      "text/html": "<div>\n<style scoped>\n    .dataframe tbody tr th:only-of-type {\n        vertical-align: middle;\n    }\n\n    .dataframe tbody tr th {\n        vertical-align: top;\n    }\n\n    .dataframe thead th {\n        text-align: right;\n    }\n</style>\n<table border=\"1\" class=\"dataframe\">\n  <thead>\n    <tr style=\"text-align: right;\">\n      <th></th>\n      <th>Name</th>\n      <th>Geburtstag</th>\n      <th>Student</th>\n      <th>Alter</th>\n    </tr>\n  </thead>\n  <tbody>\n    <tr>\n      <th>0</th>\n      <td>Pers A</td>\n      <td>1974-01-01</td>\n      <td>wahr</td>\n      <td>45</td>\n    </tr>\n    <tr>\n      <th>1</th>\n      <td>Pers B</td>\n      <td>1976-01-01</td>\n      <td>falsch</td>\n      <td>43</td>\n    </tr>\n    <tr>\n      <th>2</th>\n      <td>Pers C</td>\n      <td>1979-01-01</td>\n      <td>wahr</td>\n      <td>40</td>\n    </tr>\n  </tbody>\n</table>\n</div>",
      "text/plain": "     Name Geburtstag Student  Alter\n0  Pers A 1974-01-01    wahr     45\n1  Pers B 1976-01-01  falsch     43\n2  Pers C 1979-01-01    wahr     40"
     },
     "execution_count": 81,
     "metadata": {},
     "output_type": "execute_result"
    }
   ],
   "source": [
    "today = date.today() \n",
    "def calculateAge(birthDate): \n",
    "    return today.year - birthDate.year - ((today.month, today.day) < (birthDate.month, birthDate.day))\n",
    "\n",
    "df[\"Alter\"] = df.Geburtstag.apply(calculateAge)\n",
    "df"
   ]
  },
  {
   "cell_type": "markdown",
   "execution_count": null,
   "metadata": {},
   "outputs": [],
   "source": [
    "### Spalte entfernen"
   ]
  },
  {
   "cell_type": "code",
   "execution_count": 82,
   "metadata": {},
   "outputs": [
    {
     "data": {
      "text/html": "<div>\n<style scoped>\n    .dataframe tbody tr th:only-of-type {\n        vertical-align: middle;\n    }\n\n    .dataframe tbody tr th {\n        vertical-align: top;\n    }\n\n    .dataframe thead th {\n        text-align: right;\n    }\n</style>\n<table border=\"1\" class=\"dataframe\">\n  <thead>\n    <tr style=\"text-align: right;\">\n      <th></th>\n      <th>Name</th>\n      <th>Geburtstag</th>\n      <th>Student</th>\n    </tr>\n  </thead>\n  <tbody>\n    <tr>\n      <th>0</th>\n      <td>Pers A</td>\n      <td>1974-01-01</td>\n      <td>wahr</td>\n    </tr>\n    <tr>\n      <th>1</th>\n      <td>Pers B</td>\n      <td>1976-01-01</td>\n      <td>falsch</td>\n    </tr>\n    <tr>\n      <th>2</th>\n      <td>Pers C</td>\n      <td>1979-01-01</td>\n      <td>wahr</td>\n    </tr>\n  </tbody>\n</table>\n</div>",
      "text/plain": "     Name Geburtstag Student\n0  Pers A 1974-01-01    wahr\n1  Pers B 1976-01-01  falsch\n2  Pers C 1979-01-01    wahr"
     },
     "execution_count": 82,
     "metadata": {},
     "output_type": "execute_result"
    }
   ],
   "source": [
    "df = df.drop(columns=[\"Alter\"])\n",
    "df"
   ]
  },
  {
   "cell_type": "markdown",
   "execution_count": null,
   "metadata": {},
   "outputs": [],
   "source": [
    "## Wertkonvertierung"
   ]
  },
  {
   "cell_type": "code",
   "execution_count": 83,
   "metadata": {},
   "outputs": [
    {
     "data": {
      "text/html": "<div>\n<style scoped>\n    .dataframe tbody tr th:only-of-type {\n        vertical-align: middle;\n    }\n\n    .dataframe tbody tr th {\n        vertical-align: top;\n    }\n\n    .dataframe thead th {\n        text-align: right;\n    }\n</style>\n<table border=\"1\" class=\"dataframe\">\n  <thead>\n    <tr style=\"text-align: right;\">\n      <th></th>\n      <th>Name</th>\n      <th>Geburtstag</th>\n      <th>Student</th>\n    </tr>\n  </thead>\n  <tbody>\n    <tr>\n      <th>0</th>\n      <td>Pers A</td>\n      <td>1974-01-01</td>\n      <td>1</td>\n    </tr>\n    <tr>\n      <th>1</th>\n      <td>Pers B</td>\n      <td>1976-01-01</td>\n      <td>0</td>\n    </tr>\n    <tr>\n      <th>2</th>\n      <td>Pers C</td>\n      <td>1979-01-01</td>\n      <td>1</td>\n    </tr>\n  </tbody>\n</table>\n</div>",
      "text/plain": "     Name Geburtstag  Student\n0  Pers A 1974-01-01        1\n1  Pers B 1976-01-01        0\n2  Pers C 1979-01-01        1"
     },
     "execution_count": 83,
     "metadata": {},
     "output_type": "execute_result"
    }
   ],
   "source": [
    "map = { \"wahr\": 1, \"falsch\": 0 }\n",
    "df[\"Student\"] = df[\"Student\"].apply(lambda x: map[x])\n",
    "df\n"
   ]
  },
  {
   "cell_type": "markdown",
   "execution_count": null,
   "metadata": {},
   "outputs": [],
   "source": [
    "## Daten kombinieren"
   ]
  },
  {
   "cell_type": "code",
   "execution_count": 86,
   "metadata": {},
   "outputs": [
    {
     "data": {
      "text/html": "<div>\n<style scoped>\n    .dataframe tbody tr th:only-of-type {\n        vertical-align: middle;\n    }\n\n    .dataframe tbody tr th {\n        vertical-align: top;\n    }\n\n    .dataframe thead th {\n        text-align: right;\n    }\n</style>\n<table border=\"1\" class=\"dataframe\">\n  <thead>\n    <tr style=\"text-align: right;\">\n      <th></th>\n      <th>Name</th>\n      <th>Ort</th>\n    </tr>\n  </thead>\n  <tbody>\n    <tr>\n      <th>0</th>\n      <td>Pers A</td>\n      <td>Bruneck</td>\n    </tr>\n    <tr>\n      <th>1</th>\n      <td>Pers B</td>\n      <td>Brixen</td>\n    </tr>\n    <tr>\n      <th>2</th>\n      <td>Pers D</td>\n      <td>Kufstein</td>\n    </tr>\n  </tbody>\n</table>\n</div>",
      "text/plain": "     Name       Ort\n0  Pers A   Bruneck\n1  Pers B    Brixen\n2  Pers D  Kufstein"
     },
     "execution_count": 86,
     "metadata": {},
     "output_type": "execute_result"
    }
   ],
   "source": [
    "df2 = pd.DataFrame({\"Name\": [\"Pers A\", \"Pers B\", \"Pers D\"], \"Ort\": [\"Bruneck\", \"Brixen\", \"Kufstein\"]})\n",
    "df2"
   ]
  },
  {
   "cell_type": "markdown",
   "execution_count": null,
   "metadata": {},
   "outputs": [],
   "source": [
    "### Inner Join"
   ]
  },
  {
   "cell_type": "code",
   "execution_count": 89,
   "metadata": {},
   "outputs": [
    {
     "data": {
      "text/html": "<div>\n<style scoped>\n    .dataframe tbody tr th:only-of-type {\n        vertical-align: middle;\n    }\n\n    .dataframe tbody tr th {\n        vertical-align: top;\n    }\n\n    .dataframe thead th {\n        text-align: right;\n    }\n</style>\n<table border=\"1\" class=\"dataframe\">\n  <thead>\n    <tr style=\"text-align: right;\">\n      <th></th>\n      <th>Name</th>\n      <th>Geburtstag</th>\n      <th>Student</th>\n      <th>Ort</th>\n    </tr>\n  </thead>\n  <tbody>\n    <tr>\n      <th>0</th>\n      <td>Pers A</td>\n      <td>1974-01-01</td>\n      <td>1</td>\n      <td>Bruneck</td>\n    </tr>\n    <tr>\n      <th>1</th>\n      <td>Pers B</td>\n      <td>1976-01-01</td>\n      <td>0</td>\n      <td>Brixen</td>\n    </tr>\n  </tbody>\n</table>\n</div>",
      "text/plain": "     Name Geburtstag  Student      Ort\n0  Pers A 1974-01-01        1  Bruneck\n1  Pers B 1976-01-01        0   Brixen"
     },
     "execution_count": 89,
     "metadata": {},
     "output_type": "execute_result"
    }
   ],
   "source": [
    "pd.merge(df, df2, left_on=\"Name\", right_on=\"Name\")"
   ]
  },
  {
   "cell_type": "markdown",
   "execution_count": null,
   "metadata": {},
   "outputs": [],
   "source": [
    "### Left outer join"
   ]
  },
  {
   "cell_type": "code",
   "execution_count": 92,
   "metadata": {},
   "outputs": [
    {
     "data": {
      "text/html": "<div>\n<style scoped>\n    .dataframe tbody tr th:only-of-type {\n        vertical-align: middle;\n    }\n\n    .dataframe tbody tr th {\n        vertical-align: top;\n    }\n\n    .dataframe thead th {\n        text-align: right;\n    }\n</style>\n<table border=\"1\" class=\"dataframe\">\n  <thead>\n    <tr style=\"text-align: right;\">\n      <th></th>\n      <th>Name</th>\n      <th>Geburtstag</th>\n      <th>Student</th>\n      <th>Ort</th>\n    </tr>\n  </thead>\n  <tbody>\n    <tr>\n      <th>0</th>\n      <td>Pers A</td>\n      <td>1974-01-01</td>\n      <td>1</td>\n      <td>Bruneck</td>\n    </tr>\n    <tr>\n      <th>1</th>\n      <td>Pers B</td>\n      <td>1976-01-01</td>\n      <td>0</td>\n      <td>Brixen</td>\n    </tr>\n    <tr>\n      <th>2</th>\n      <td>Pers C</td>\n      <td>1979-01-01</td>\n      <td>1</td>\n      <td>NaN</td>\n    </tr>\n  </tbody>\n</table>\n</div>",
      "text/plain": "     Name Geburtstag  Student      Ort\n0  Pers A 1974-01-01        1  Bruneck\n1  Pers B 1976-01-01        0   Brixen\n2  Pers C 1979-01-01        1      NaN"
     },
     "execution_count": 92,
     "metadata": {},
     "output_type": "execute_result"
    }
   ],
   "source": [
    "pd.merge(df, df2, on=\"Name\", how=\"left\")"
   ]
  },
  {
   "cell_type": "markdown",
   "execution_count": null,
   "metadata": {},
   "outputs": [],
   "source": [
    "## Pivot / Unpivot\n",
    "\n",
    "### Initialisierung"
   ]
  },
  {
   "cell_type": "code",
   "execution_count": 4,
   "metadata": {},
   "outputs": [
    {
     "data": {
      "text/html": "<div>\n<style scoped>\n    .dataframe tbody tr th:only-of-type {\n        vertical-align: middle;\n    }\n\n    .dataframe tbody tr th {\n        vertical-align: top;\n    }\n\n    .dataframe thead th {\n        text-align: right;\n    }\n</style>\n<table border=\"1\" class=\"dataframe\">\n  <thead>\n    <tr style=\"text-align: right;\">\n      <th></th>\n      <th>Person</th>\n      <th>Art</th>\n      <th>Telefon</th>\n    </tr>\n  </thead>\n  <tbody>\n    <tr>\n      <th>0</th>\n      <td>A</td>\n      <td>Festnetz</td>\n      <td>111</td>\n    </tr>\n    <tr>\n      <th>1</th>\n      <td>A</td>\n      <td>Mobil</td>\n      <td>222</td>\n    </tr>\n    <tr>\n      <th>2</th>\n      <td>B</td>\n      <td>Mobil</td>\n      <td>333</td>\n    </tr>\n    <tr>\n      <th>3</th>\n      <td>C</td>\n      <td>Festnetz</td>\n      <td>444</td>\n    </tr>\n    <tr>\n      <th>4</th>\n      <td>C</td>\n      <td>Fax</td>\n      <td>555</td>\n    </tr>\n  </tbody>\n</table>\n</div>",
      "text/plain": "  Person       Art Telefon\n0      A  Festnetz     111\n1      A     Mobil     222\n2      B     Mobil     333\n3      C  Festnetz     444\n4      C       Fax     555"
     },
     "execution_count": 4,
     "metadata": {},
     "output_type": "execute_result"
    }
   ],
   "source": [
    "df = pd.DataFrame({\"Person\": [\"A\", \"A\", \"B\", \"C\", \"C\"], \"Art\": [\"Festnetz\", \"Mobil\", \"Mobil\",\"Festnetz\", \"Fax\"], \"Telefon\": [\"111\", \"222\", \"333\", \"444\", \"555\"]})\n",
    "df"
   ]
  },
  {
   "cell_type": "markdown",
   "execution_count": null,
   "metadata": {},
   "outputs": [],
   "source": [
    "### Pivot"
   ]
  },
  {
   "cell_type": "code",
   "execution_count": 68,
   "metadata": {},
   "outputs": [
    {
     "data": {
      "text/html": "<div>\n<style scoped>\n    .dataframe tbody tr th:only-of-type {\n        vertical-align: middle;\n    }\n\n    .dataframe tbody tr th {\n        vertical-align: top;\n    }\n\n    .dataframe thead th {\n        text-align: right;\n    }\n</style>\n<table border=\"1\" class=\"dataframe\">\n  <thead>\n    <tr style=\"text-align: right;\">\n      <th>Art</th>\n      <th>Fax</th>\n      <th>Festnetz</th>\n      <th>Mobil</th>\n    </tr>\n    <tr>\n      <th>Person</th>\n      <th></th>\n      <th></th>\n      <th></th>\n    </tr>\n  </thead>\n  <tbody>\n    <tr>\n      <th>A</th>\n      <td>NaN</td>\n      <td>111</td>\n      <td>222</td>\n    </tr>\n    <tr>\n      <th>B</th>\n      <td>NaN</td>\n      <td>NaN</td>\n      <td>333</td>\n    </tr>\n    <tr>\n      <th>C</th>\n      <td>555</td>\n      <td>444</td>\n      <td>NaN</td>\n    </tr>\n  </tbody>\n</table>\n</div>",
      "text/plain": "Art     Fax Festnetz Mobil\nPerson                    \nA       NaN      111   222\nB       NaN      NaN   333\nC       555      444   NaN"
     },
     "execution_count": 68,
     "metadata": {},
     "output_type": "execute_result"
    }
   ],
   "source": [
    "dfPiv = df.pivot(index='Person', columns='Art', values='Telefon')\n",
    "dfPiv"
   ]
  },
  {
   "cell_type": "code",
   "execution_count": 69,
   "metadata": {},
   "outputs": [
    {
     "data": {
      "text/html": "<div>\n<style scoped>\n    .dataframe tbody tr th:only-of-type {\n        vertical-align: middle;\n    }\n\n    .dataframe tbody tr th {\n        vertical-align: top;\n    }\n\n    .dataframe thead th {\n        text-align: right;\n    }\n</style>\n<table border=\"1\" class=\"dataframe\">\n  <thead>\n    <tr style=\"text-align: right;\">\n      <th>Art</th>\n      <th>Person</th>\n      <th>Fax</th>\n      <th>Festnetz</th>\n      <th>Mobil</th>\n    </tr>\n  </thead>\n  <tbody>\n    <tr>\n      <th>0</th>\n      <td>A</td>\n      <td>NaN</td>\n      <td>111</td>\n      <td>222</td>\n    </tr>\n    <tr>\n      <th>1</th>\n      <td>B</td>\n      <td>NaN</td>\n      <td>NaN</td>\n      <td>333</td>\n    </tr>\n    <tr>\n      <th>2</th>\n      <td>C</td>\n      <td>555</td>\n      <td>444</td>\n      <td>NaN</td>\n    </tr>\n  </tbody>\n</table>\n</div>",
      "text/plain": "Art Person  Fax Festnetz Mobil\n0        A  NaN      111   222\n1        B  NaN      NaN   333\n2        C  555      444   NaN"
     },
     "execution_count": 69,
     "metadata": {},
     "output_type": "execute_result"
    }
   ],
   "source": [
    "dfPiv = dfPiv.reset_index()\n",
    "dfPiv"
   ]
  },
  {
   "cell_type": "markdown",
   "execution_count": null,
   "metadata": {},
   "outputs": [],
   "source": [
    "### Unpivot"
   ]
  },
  {
   "cell_type": "code",
   "execution_count": 55,
   "metadata": {},
   "outputs": [
    {
     "data": {
      "text/html": "<div>\n<style scoped>\n    .dataframe tbody tr th:only-of-type {\n        vertical-align: middle;\n    }\n\n    .dataframe tbody tr th {\n        vertical-align: top;\n    }\n\n    .dataframe thead th {\n        text-align: right;\n    }\n</style>\n<table border=\"1\" class=\"dataframe\">\n  <thead>\n    <tr style=\"text-align: right;\">\n      <th></th>\n      <th>Person</th>\n      <th>Art</th>\n      <th>Telefon</th>\n    </tr>\n  </thead>\n  <tbody>\n    <tr>\n      <th>0</th>\n      <td>A</td>\n      <td>Fax</td>\n      <td>NaN</td>\n    </tr>\n    <tr>\n      <th>1</th>\n      <td>B</td>\n      <td>Fax</td>\n      <td>NaN</td>\n    </tr>\n    <tr>\n      <th>2</th>\n      <td>C</td>\n      <td>Fax</td>\n      <td>555</td>\n    </tr>\n    <tr>\n      <th>3</th>\n      <td>A</td>\n      <td>Festnetz</td>\n      <td>111</td>\n    </tr>\n    <tr>\n      <th>4</th>\n      <td>B</td>\n      <td>Festnetz</td>\n      <td>NaN</td>\n    </tr>\n    <tr>\n      <th>5</th>\n      <td>C</td>\n      <td>Festnetz</td>\n      <td>444</td>\n    </tr>\n    <tr>\n      <th>6</th>\n      <td>A</td>\n      <td>Mobil</td>\n      <td>222</td>\n    </tr>\n    <tr>\n      <th>7</th>\n      <td>B</td>\n      <td>Mobil</td>\n      <td>333</td>\n    </tr>\n    <tr>\n      <th>8</th>\n      <td>C</td>\n      <td>Mobil</td>\n      <td>NaN</td>\n    </tr>\n  </tbody>\n</table>\n</div>",
      "text/plain": "  Person       Art Telefon\n0      A       Fax     NaN\n1      B       Fax     NaN\n2      C       Fax     555\n3      A  Festnetz     111\n4      B  Festnetz     NaN\n5      C  Festnetz     444\n6      A     Mobil     222\n7      B     Mobil     333\n8      C     Mobil     NaN"
     },
     "execution_count": 55,
     "metadata": {},
     "output_type": "execute_result"
    }
   ],
   "source": [
    "dfUnpiv = pd.melt(dfPiv, id_vars=[\"Person\"], var_name=\"ArtTelefon\", value_name=\"Telefon\")\n",
    "dfUnpiv\n"
   ]
  },
  {
   "cell_type": "code",
   "execution_count": 56,
   "metadata": {},
   "outputs": [
    {
     "data": {
      "text/html": "<div>\n<style scoped>\n    .dataframe tbody tr th:only-of-type {\n        vertical-align: middle;\n    }\n\n    .dataframe tbody tr th {\n        vertical-align: top;\n    }\n\n    .dataframe thead th {\n        text-align: right;\n    }\n</style>\n<table border=\"1\" class=\"dataframe\">\n  <thead>\n    <tr style=\"text-align: right;\">\n      <th></th>\n      <th>Person</th>\n      <th>Art</th>\n      <th>Telefon</th>\n    </tr>\n  </thead>\n  <tbody>\n    <tr>\n      <th>2</th>\n      <td>C</td>\n      <td>Fax</td>\n      <td>555</td>\n    </tr>\n    <tr>\n      <th>3</th>\n      <td>A</td>\n      <td>Festnetz</td>\n      <td>111</td>\n    </tr>\n    <tr>\n      <th>5</th>\n      <td>C</td>\n      <td>Festnetz</td>\n      <td>444</td>\n    </tr>\n    <tr>\n      <th>6</th>\n      <td>A</td>\n      <td>Mobil</td>\n      <td>222</td>\n    </tr>\n    <tr>\n      <th>7</th>\n      <td>B</td>\n      <td>Mobil</td>\n      <td>333</td>\n    </tr>\n  </tbody>\n</table>\n</div>",
      "text/plain": "  Person       Art Telefon\n2      C       Fax     555\n3      A  Festnetz     111\n5      C  Festnetz     444\n6      A     Mobil     222\n7      B     Mobil     333"
     },
     "execution_count": 56,
     "metadata": {},
     "output_type": "execute_result"
    }
   ],
   "source": [
    "dfUnpiv.dropna(axis=0, how='any', thresh=None, subset=None, inplace=False)"
   ]
  },
  {
   "cell_type": "markdown",
   "execution_count": null,
   "metadata": {},
   "outputs": [],
   "source": [
    "## OneHotEncoding"
   ]
  },
  {
   "cell_type": "code",
   "execution_count": 72,
   "metadata": {},
   "outputs": [
    {
     "data": {
      "text/html": "<div>\n<style scoped>\n    .dataframe tbody tr th:only-of-type {\n        vertical-align: middle;\n    }\n\n    .dataframe tbody tr th {\n        vertical-align: top;\n    }\n\n    .dataframe thead th {\n        text-align: right;\n    }\n</style>\n<table border=\"1\" class=\"dataframe\">\n  <thead>\n    <tr style=\"text-align: right;\">\n      <th></th>\n      <th>Person</th>\n      <th>Telefon</th>\n      <th>Art_Fax</th>\n      <th>Art_Festnetz</th>\n      <th>Art_Mobil</th>\n    </tr>\n  </thead>\n  <tbody>\n    <tr>\n      <th>0</th>\n      <td>A</td>\n      <td>111</td>\n      <td>0</td>\n      <td>1</td>\n      <td>0</td>\n    </tr>\n    <tr>\n      <th>1</th>\n      <td>A</td>\n      <td>222</td>\n      <td>0</td>\n      <td>0</td>\n      <td>1</td>\n    </tr>\n    <tr>\n      <th>2</th>\n      <td>B</td>\n      <td>333</td>\n      <td>0</td>\n      <td>0</td>\n      <td>1</td>\n    </tr>\n    <tr>\n      <th>3</th>\n      <td>C</td>\n      <td>444</td>\n      <td>0</td>\n      <td>1</td>\n      <td>0</td>\n    </tr>\n    <tr>\n      <th>4</th>\n      <td>C</td>\n      <td>555</td>\n      <td>1</td>\n      <td>0</td>\n      <td>0</td>\n    </tr>\n  </tbody>\n</table>\n</div>",
      "text/plain": "  Person Telefon  Art_Fax  Art_Festnetz  Art_Mobil\n0      A     111        0             1          0\n1      A     222        0             0          1\n2      B     333        0             0          1\n3      C     444        0             1          0\n4      C     555        1             0          0"
     },
     "execution_count": 72,
     "metadata": {},
     "output_type": "execute_result"
    }
   ],
   "source": [
    "pd.get_dummies(df, columns=[\"Art\"]).head()"
   ]
  }
 ]
}