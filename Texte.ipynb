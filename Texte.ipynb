{
 "nbformat": 4,
 "nbformat_minor": 2,
 "metadata": {
  "language_info": {
   "name": "python",
   "codemirror_mode": {
    "name": "ipython",
    "version": 3
   },
   "version": "3.7.4"
  },
  "orig_nbformat": 2,
  "file_extension": ".py",
  "mimetype": "text/x-python",
  "name": "python",
  "npconvert_exporter": "python",
  "pygments_lexer": "ipython3",
  "version": 3
 },
 "cells": [
  {
   "cell_type": "markdown",
   "execution_count": null,
   "metadata": {},
   "outputs": [],
   "source": [
    "# Texte\n",
    "\n",
    "## Initialisierung"
   ]
  },
  {
   "cell_type": "code",
   "execution_count": 1,
   "metadata": {},
   "outputs": [],
   "source": [
    "import pandas as pd\n",
    "import re\n",
    "import nltk\n",
    "from nltk import word_tokenize\n",
    "from nltk.corpus import stopwords\n",
    "from nltk.stem import PorterStemmer, WordNetLemmatizer"
   ]
  },
  {
   "cell_type": "code",
   "execution_count": 2,
   "metadata": {},
   "outputs": [
    {
     "name": "stderr",
     "output_type": "stream",
     "text": "[nltk_data] Downloading package punkt to\n[nltk_data]     C:\\Users\\volkm\\AppData\\Roaming\\nltk_data...\n[nltk_data]   Package punkt is already up-to-date!\n[nltk_data] Downloading package wordnet to\n[nltk_data]     C:\\Users\\volkm\\AppData\\Roaming\\nltk_data...\n[nltk_data]   Package wordnet is already up-to-date!\n[nltk_data] Downloading package stopwords to\n[nltk_data]     C:\\Users\\volkm\\AppData\\Roaming\\nltk_data...\n[nltk_data]   Package stopwords is already up-to-date!\n"
    },
    {
     "data": {
      "text/plain": "True"
     },
     "execution_count": 2,
     "metadata": {},
     "output_type": "execute_result"
    }
   ],
   "source": [
    "nltk.download('punkt')\n",
    "nltk.download('wordnet')\n",
    "nltk.download('stopwords')"
   ]
  },
  {
   "cell_type": "code",
   "execution_count": 3,
   "metadata": {},
   "outputs": [
    {
     "data": {
      "text/plain": "\"Can ninjas catch colds? I guess the better question would be: can colds catch ninjas? Nope. We're faster than germs. So then yes, ninjas can catch colds. The only disease that a ninja is susceptible to is Saturday Night Fever. There are two main categories of ninjas skills: Deadly and possibly deadly. You don't hire ninjas for everyone you need to kill... that's what Italians are for!\""
     },
     "execution_count": 3,
     "metadata": {},
     "output_type": "execute_result"
    }
   ],
   "source": [
    "# https://en.wikiquote.org/wiki/Ask_a_Ninja / https://www.youtube.com/watch?v=kO_u-knoehM\n",
    "text = \"Can ninjas catch colds? I guess the better question would be: can colds catch ninjas? Nope. We're faster than germs. So then yes, ninjas can catch colds. The only disease that a ninja is susceptible to is Saturday Night Fever. There are two main categories of ninjas skills: Deadly and possibly deadly. You don't hire ninjas for everyone you need to kill... that's what Italians are for!\"\n",
    "text"
   ]
  },
  {
   "cell_type": "markdown",
   "execution_count": null,
   "metadata": {},
   "outputs": [],
   "source": [
    "## Tokenisierung"
   ]
  },
  {
   "cell_type": "code",
   "execution_count": 4,
   "metadata": {},
   "outputs": [
    {
     "data": {
      "text/html": "<div>\n<style scoped>\n    .dataframe tbody tr th:only-of-type {\n        vertical-align: middle;\n    }\n\n    .dataframe tbody tr th {\n        vertical-align: top;\n    }\n\n    .dataframe thead th {\n        text-align: right;\n    }\n</style>\n<table border=\"1\" class=\"dataframe\">\n  <thead>\n    <tr style=\"text-align: right;\">\n      <th></th>\n      <th>token</th>\n    </tr>\n  </thead>\n  <tbody>\n    <tr>\n      <th>0</th>\n      <td>Can</td>\n    </tr>\n    <tr>\n      <th>1</th>\n      <td>ninjas</td>\n    </tr>\n    <tr>\n      <th>2</th>\n      <td>catch</td>\n    </tr>\n    <tr>\n      <th>3</th>\n      <td>colds</td>\n    </tr>\n    <tr>\n      <th>4</th>\n      <td>?</td>\n    </tr>\n    <tr>\n      <th>...</th>\n      <td>...</td>\n    </tr>\n    <tr>\n      <th>77</th>\n      <td>what</td>\n    </tr>\n    <tr>\n      <th>78</th>\n      <td>Italians</td>\n    </tr>\n    <tr>\n      <th>79</th>\n      <td>are</td>\n    </tr>\n    <tr>\n      <th>80</th>\n      <td>for</td>\n    </tr>\n    <tr>\n      <th>81</th>\n      <td>!</td>\n    </tr>\n  </tbody>\n</table>\n<p>82 rows × 1 columns</p>\n</div>",
      "text/plain": "       token\n0        Can\n1     ninjas\n2      catch\n3      colds\n4          ?\n..       ...\n77      what\n78  Italians\n79       are\n80       for\n81         !\n\n[82 rows x 1 columns]"
     },
     "execution_count": 4,
     "metadata": {},
     "output_type": "execute_result"
    }
   ],
   "source": [
    "df = pd.DataFrame({\"token\": word_tokenize(text) })\n",
    "df"
   ]
  },
  {
   "cell_type": "markdown",
   "execution_count": null,
   "metadata": {},
   "outputs": [],
   "source": [
    "## Normalisierung"
   ]
  },
  {
   "cell_type": "code",
   "execution_count": 5,
   "metadata": {},
   "outputs": [
    {
     "data": {
      "text/html": "<div>\n<style scoped>\n    .dataframe tbody tr th:only-of-type {\n        vertical-align: middle;\n    }\n\n    .dataframe tbody tr th {\n        vertical-align: top;\n    }\n\n    .dataframe thead th {\n        text-align: right;\n    }\n</style>\n<table border=\"1\" class=\"dataframe\">\n  <thead>\n    <tr style=\"text-align: right;\">\n      <th></th>\n      <th>token</th>\n      <th>normalisierung</th>\n    </tr>\n  </thead>\n  <tbody>\n    <tr>\n      <th>0</th>\n      <td>Can</td>\n      <td></td>\n    </tr>\n    <tr>\n      <th>1</th>\n      <td>ninjas</td>\n      <td>ninjas</td>\n    </tr>\n    <tr>\n      <th>2</th>\n      <td>catch</td>\n      <td>catch</td>\n    </tr>\n    <tr>\n      <th>3</th>\n      <td>colds</td>\n      <td>colds</td>\n    </tr>\n    <tr>\n      <th>4</th>\n      <td>?</td>\n      <td></td>\n    </tr>\n    <tr>\n      <th>...</th>\n      <td>...</td>\n      <td>...</td>\n    </tr>\n    <tr>\n      <th>77</th>\n      <td>what</td>\n      <td></td>\n    </tr>\n    <tr>\n      <th>78</th>\n      <td>Italians</td>\n      <td>italians</td>\n    </tr>\n    <tr>\n      <th>79</th>\n      <td>are</td>\n      <td></td>\n    </tr>\n    <tr>\n      <th>80</th>\n      <td>for</td>\n      <td></td>\n    </tr>\n    <tr>\n      <th>81</th>\n      <td>!</td>\n      <td></td>\n    </tr>\n  </tbody>\n</table>\n<p>82 rows × 2 columns</p>\n</div>",
      "text/plain": "       token normalisierung\n0        Can               \n1     ninjas         ninjas\n2      catch          catch\n3      colds          colds\n4          ?               \n..       ...            ...\n77      what               \n78  Italians       italians\n79       are               \n80       for               \n81         !               \n\n[82 rows x 2 columns]"
     },
     "execution_count": 5,
     "metadata": {},
     "output_type": "execute_result"
    }
   ],
   "source": [
    "def Normalisierung(token):\n",
    "    # Satzzeichen entfernen\n",
    "    token = re.sub(r'[^\\w\\s]', '', token)\n",
    "    # Kleinschreibung\n",
    "    token = token.lower()\n",
    "    # Stopwords entfernen\n",
    "    if token  in stopwords.words('english'):\n",
    "        return \"\"\n",
    "    \n",
    "    return token\n",
    "\n",
    "df[\"normalisierung\"] = df.token.apply(Normalisierung)\n",
    "df"
   ]
  },
  {
   "cell_type": "markdown",
   "execution_count": null,
   "metadata": {},
   "outputs": [],
   "source": [
    "## Stemming"
   ]
  },
  {
   "cell_type": "code",
   "execution_count": 6,
   "metadata": {},
   "outputs": [
    {
     "data": {
      "text/html": "<div>\n<style scoped>\n    .dataframe tbody tr th:only-of-type {\n        vertical-align: middle;\n    }\n\n    .dataframe tbody tr th {\n        vertical-align: top;\n    }\n\n    .dataframe thead th {\n        text-align: right;\n    }\n</style>\n<table border=\"1\" class=\"dataframe\">\n  <thead>\n    <tr style=\"text-align: right;\">\n      <th></th>\n      <th>token</th>\n      <th>normalisierung</th>\n      <th>stemming</th>\n    </tr>\n  </thead>\n  <tbody>\n    <tr>\n      <th>0</th>\n      <td>Can</td>\n      <td></td>\n      <td></td>\n    </tr>\n    <tr>\n      <th>1</th>\n      <td>ninjas</td>\n      <td>ninjas</td>\n      <td>ninja</td>\n    </tr>\n    <tr>\n      <th>2</th>\n      <td>catch</td>\n      <td>catch</td>\n      <td>catch</td>\n    </tr>\n    <tr>\n      <th>3</th>\n      <td>colds</td>\n      <td>colds</td>\n      <td>cold</td>\n    </tr>\n    <tr>\n      <th>4</th>\n      <td>?</td>\n      <td></td>\n      <td></td>\n    </tr>\n    <tr>\n      <th>...</th>\n      <td>...</td>\n      <td>...</td>\n      <td>...</td>\n    </tr>\n    <tr>\n      <th>77</th>\n      <td>what</td>\n      <td></td>\n      <td></td>\n    </tr>\n    <tr>\n      <th>78</th>\n      <td>Italians</td>\n      <td>italians</td>\n      <td>italian</td>\n    </tr>\n    <tr>\n      <th>79</th>\n      <td>are</td>\n      <td></td>\n      <td></td>\n    </tr>\n    <tr>\n      <th>80</th>\n      <td>for</td>\n      <td></td>\n      <td></td>\n    </tr>\n    <tr>\n      <th>81</th>\n      <td>!</td>\n      <td></td>\n      <td></td>\n    </tr>\n  </tbody>\n</table>\n<p>82 rows × 3 columns</p>\n</div>",
      "text/plain": "       token normalisierung stemming\n0        Can                        \n1     ninjas         ninjas    ninja\n2      catch          catch    catch\n3      colds          colds     cold\n4          ?                        \n..       ...            ...      ...\n77      what                        \n78  Italians       italians  italian\n79       are                        \n80       for                        \n81         !                        \n\n[82 rows x 3 columns]"
     },
     "execution_count": 6,
     "metadata": {},
     "output_type": "execute_result"
    }
   ],
   "source": [
    "stemmer = PorterStemmer()\n",
    "df[\"stemming\"] = df.normalisierung.apply(stemmer.stem)\n",
    "df"
   ]
  },
  {
   "cell_type": "markdown",
   "execution_count": null,
   "metadata": {},
   "outputs": [],
   "source": [
    "## Lemmatisierung"
   ]
  },
  {
   "cell_type": "code",
   "execution_count": 7,
   "metadata": {},
   "outputs": [
    {
     "data": {
      "text/html": "<div>\n<style scoped>\n    .dataframe tbody tr th:only-of-type {\n        vertical-align: middle;\n    }\n\n    .dataframe tbody tr th {\n        vertical-align: top;\n    }\n\n    .dataframe thead th {\n        text-align: right;\n    }\n</style>\n<table border=\"1\" class=\"dataframe\">\n  <thead>\n    <tr style=\"text-align: right;\">\n      <th></th>\n      <th>token</th>\n      <th>normalisierung</th>\n      <th>stemming</th>\n      <th>lemmatisierung</th>\n    </tr>\n  </thead>\n  <tbody>\n    <tr>\n      <th>0</th>\n      <td>Can</td>\n      <td></td>\n      <td></td>\n      <td></td>\n    </tr>\n    <tr>\n      <th>1</th>\n      <td>ninjas</td>\n      <td>ninjas</td>\n      <td>ninja</td>\n      <td>ninja</td>\n    </tr>\n    <tr>\n      <th>2</th>\n      <td>catch</td>\n      <td>catch</td>\n      <td>catch</td>\n      <td>catch</td>\n    </tr>\n    <tr>\n      <th>3</th>\n      <td>colds</td>\n      <td>colds</td>\n      <td>cold</td>\n      <td>cold</td>\n    </tr>\n    <tr>\n      <th>4</th>\n      <td>?</td>\n      <td></td>\n      <td></td>\n      <td></td>\n    </tr>\n    <tr>\n      <th>...</th>\n      <td>...</td>\n      <td>...</td>\n      <td>...</td>\n      <td>...</td>\n    </tr>\n    <tr>\n      <th>77</th>\n      <td>what</td>\n      <td></td>\n      <td></td>\n      <td></td>\n    </tr>\n    <tr>\n      <th>78</th>\n      <td>Italians</td>\n      <td>italians</td>\n      <td>italian</td>\n      <td>italian</td>\n    </tr>\n    <tr>\n      <th>79</th>\n      <td>are</td>\n      <td></td>\n      <td></td>\n      <td></td>\n    </tr>\n    <tr>\n      <th>80</th>\n      <td>for</td>\n      <td></td>\n      <td></td>\n      <td></td>\n    </tr>\n    <tr>\n      <th>81</th>\n      <td>!</td>\n      <td></td>\n      <td></td>\n      <td></td>\n    </tr>\n  </tbody>\n</table>\n<p>82 rows × 4 columns</p>\n</div>",
      "text/plain": "       token normalisierung stemming lemmatisierung\n0        Can                                       \n1     ninjas         ninjas    ninja          ninja\n2      catch          catch    catch          catch\n3      colds          colds     cold           cold\n4          ?                                       \n..       ...            ...      ...            ...\n77      what                                       \n78  Italians       italians  italian        italian\n79       are                                       \n80       for                                       \n81         !                                       \n\n[82 rows x 4 columns]"
     },
     "execution_count": 7,
     "metadata": {},
     "output_type": "execute_result"
    }
   ],
   "source": [
    "lemmatizer = WordNetLemmatizer()\n",
    "df[\"lemmatisierung\"] = df.normalisierung.apply(lemmatizer.lemmatize)\n",
    "df"
   ]
  },
  {
   "cell_type": "markdown",
   "execution_count": null,
   "metadata": {},
   "outputs": [],
   "source": [
    "### Unterschied zwischen Stemming und Lemmatisierung"
   ]
  },
  {
   "cell_type": "code",
   "execution_count": 8,
   "metadata": {},
   "outputs": [
    {
     "data": {
      "text/html": "<div>\n<style scoped>\n    .dataframe tbody tr th:only-of-type {\n        vertical-align: middle;\n    }\n\n    .dataframe tbody tr th {\n        vertical-align: top;\n    }\n\n    .dataframe thead th {\n        text-align: right;\n    }\n</style>\n<table border=\"1\" class=\"dataframe\">\n  <thead>\n    <tr style=\"text-align: right;\">\n      <th></th>\n      <th>token</th>\n      <th>normalisierung</th>\n      <th>stemming</th>\n      <th>lemmatisierung</th>\n    </tr>\n  </thead>\n  <tbody>\n    <tr>\n      <th>28</th>\n      <td>yes</td>\n      <td>yes</td>\n      <td>ye</td>\n      <td>yes</td>\n    </tr>\n    <tr>\n      <th>37</th>\n      <td>disease</td>\n      <td>disease</td>\n      <td>diseas</td>\n      <td>disease</td>\n    </tr>\n    <tr>\n      <th>42</th>\n      <td>susceptible</td>\n      <td>susceptible</td>\n      <td>suscept</td>\n      <td>susceptible</td>\n    </tr>\n    <tr>\n      <th>53</th>\n      <td>categories</td>\n      <td>categories</td>\n      <td>categori</td>\n      <td>category</td>\n    </tr>\n    <tr>\n      <th>58</th>\n      <td>Deadly</td>\n      <td>deadly</td>\n      <td>deadli</td>\n      <td>deadly</td>\n    </tr>\n    <tr>\n      <th>60</th>\n      <td>possibly</td>\n      <td>possibly</td>\n      <td>possibl</td>\n      <td>possibly</td>\n    </tr>\n    <tr>\n      <th>61</th>\n      <td>deadly</td>\n      <td>deadly</td>\n      <td>deadli</td>\n      <td>deadly</td>\n    </tr>\n    <tr>\n      <th>69</th>\n      <td>everyone</td>\n      <td>everyone</td>\n      <td>everyon</td>\n      <td>everyone</td>\n    </tr>\n  </tbody>\n</table>\n</div>",
      "text/plain": "          token normalisierung  stemming lemmatisierung\n28          yes            yes        ye            yes\n37      disease        disease    diseas        disease\n42  susceptible    susceptible   suscept    susceptible\n53   categories     categories  categori       category\n58       Deadly         deadly    deadli         deadly\n60     possibly       possibly   possibl       possibly\n61       deadly         deadly    deadli         deadly\n69     everyone       everyone   everyon       everyone"
     },
     "execution_count": 8,
     "metadata": {},
     "output_type": "execute_result"
    }
   ],
   "source": [
    "df[df.stemming != df.lemmatisierung]\n"
   ]
  }
 ]
}