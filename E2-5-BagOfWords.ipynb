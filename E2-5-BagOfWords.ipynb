{
 "nbformat": 4,
 "nbformat_minor": 2,
 "metadata": {
  "language_info": {
   "name": "python",
   "codemirror_mode": {
    "name": "ipython",
    "version": 3
   },
   "version": "3.7.4"
  },
  "orig_nbformat": 2,
  "file_extension": ".py",
  "mimetype": "text/x-python",
  "name": "python",
  "npconvert_exporter": "python",
  "pygments_lexer": "ipython3",
  "version": 3
 },
 "cells": [
  {
   "cell_type": "markdown",
   "execution_count": null,
   "metadata": {},
   "outputs": [],
   "source": [
    "# Bag of Words\n",
    "\n",
    "## Initialisierung"
   ]
  },
  {
   "cell_type": "code",
   "execution_count": 17,
   "metadata": {},
   "outputs": [],
   "source": [
    "import pandas as pd\n",
    "import re\n",
    "from sklearn.feature_extraction.text import CountVectorizer\n",
    "import nltk\n",
    "from nltk import word_tokenize\n",
    "from nltk.corpus import stopwords\n",
    "from nltk.stem import PorterStemmer"
   ]
  },
  {
   "cell_type": "code",
   "execution_count": 11,
   "metadata": {},
   "outputs": [
    {
     "name": "stderr",
     "output_type": "stream",
     "text": "[nltk_data] Downloading package punkt to\n[nltk_data]     C:\\Users\\volkm\\AppData\\Roaming\\nltk_data...\n[nltk_data]   Package punkt is already up-to-date!\n[nltk_data] Downloading package wordnet to\n[nltk_data]     C:\\Users\\volkm\\AppData\\Roaming\\nltk_data...\n[nltk_data]   Package wordnet is already up-to-date!\n[nltk_data] Downloading package stopwords to\n[nltk_data]     C:\\Users\\volkm\\AppData\\Roaming\\nltk_data...\n[nltk_data]   Package stopwords is already up-to-date!\n"
    },
    {
     "data": {
      "text/plain": "True"
     },
     "execution_count": 11,
     "metadata": {},
     "output_type": "execute_result"
    }
   ],
   "source": [
    "nltk.download('punkt')\n",
    "nltk.download('wordnet')\n",
    "nltk.download('stopwords')"
   ]
  },
  {
   "cell_type": "code",
   "execution_count": 12,
   "metadata": {},
   "outputs": [],
   "source": [
    "def prepareText(text):\n",
    "    stemmer = PorterStemmer()\n",
    "    tokens = []\n",
    "    for token in word_tokenize(text):\n",
    "        # Satzzeichen entfernen\n",
    "        token = re.sub(r'[^\\w\\s]', '', token)\n",
    "        # Kleinschreibung\n",
    "        token = token.lower()\n",
    "        # Stopwords entfernen\n",
    "        if token not in stopwords.words('english'):\n",
    "          tokens.append(stemmer.stem(token))\n",
    "    \n",
    "    return \" \".join(tokens)"
   ]
  },
  {
   "cell_type": "code",
   "execution_count": 13,
   "metadata": {},
   "outputs": [
    {
     "data": {
      "text/html": "<div>\n<style scoped>\n    .dataframe tbody tr th:only-of-type {\n        vertical-align: middle;\n    }\n\n    .dataframe tbody tr th {\n        vertical-align: top;\n    }\n\n    .dataframe thead th {\n        text-align: right;\n    }\n</style>\n<table border=\"1\" class=\"dataframe\">\n  <thead>\n    <tr style=\"text-align: right;\">\n      <th></th>\n      <th>text</th>\n    </tr>\n  </thead>\n  <tbody>\n    <tr>\n      <th>0</th>\n      <td>Can ninjas catch colds? I guess the better que...</td>\n    </tr>\n    <tr>\n      <th>1</th>\n      <td>Nope. We're faster than germs. So then yes, ni...</td>\n    </tr>\n    <tr>\n      <th>2</th>\n      <td>The only disease that a ninja is susceptible t...</td>\n    </tr>\n    <tr>\n      <th>3</th>\n      <td>There are two main categories of ninjas skills...</td>\n    </tr>\n    <tr>\n      <th>4</th>\n      <td>You don't hire ninjas for everyone you need to...</td>\n    </tr>\n  </tbody>\n</table>\n</div>",
      "text/plain": "                                                text\n0  Can ninjas catch colds? I guess the better que...\n1  Nope. We're faster than germs. So then yes, ni...\n2  The only disease that a ninja is susceptible t...\n3  There are two main categories of ninjas skills...\n4  You don't hire ninjas for everyone you need to..."
     },
     "execution_count": 13,
     "metadata": {},
     "output_type": "execute_result"
    }
   ],
   "source": [
    "df = pd.DataFrame({\"text\": [\n",
    "    \"Can ninjas catch colds? I guess the better question would be: can colds catch ninjas?\", \n",
    "    \"Nope. We're faster than germs. So then yes, ninjas can catch colds.\", \n",
    "    \"The only disease that a ninja is susceptible to is Saturday Night Fever.\", \n",
    "    \"There are two main categories of ninjas skills: Deadly and possibly deadly.\", \n",
    "    \"You don't hire ninjas for everyone you need to kill... that's what Italians are for!\"]})\n",
    "df\n"
   ]
  },
  {
   "cell_type": "code",
   "execution_count": 14,
   "metadata": {},
   "outputs": [
    {
     "data": {
      "text/html": "<div>\n<style scoped>\n    .dataframe tbody tr th:only-of-type {\n        vertical-align: middle;\n    }\n\n    .dataframe tbody tr th {\n        vertical-align: top;\n    }\n\n    .dataframe thead th {\n        text-align: right;\n    }\n</style>\n<table border=\"1\" class=\"dataframe\">\n  <thead>\n    <tr style=\"text-align: right;\">\n      <th></th>\n      <th>text</th>\n      <th>prepared</th>\n    </tr>\n  </thead>\n  <tbody>\n    <tr>\n      <th>0</th>\n      <td>Can ninjas catch colds? I guess the better que...</td>\n      <td>ninja catch cold  guess better question would ...</td>\n    </tr>\n    <tr>\n      <th>1</th>\n      <td>Nope. We're faster than germs. So then yes, ni...</td>\n      <td>nope  faster germ  ye  ninja catch cold</td>\n    </tr>\n    <tr>\n      <th>2</th>\n      <td>The only disease that a ninja is susceptible t...</td>\n      <td>diseas ninja suscept saturday night fever</td>\n    </tr>\n    <tr>\n      <th>3</th>\n      <td>There are two main categories of ninjas skills...</td>\n      <td>two main categori ninja skill  deadli possibl ...</td>\n    </tr>\n    <tr>\n      <th>4</th>\n      <td>You don't hire ninjas for everyone you need to...</td>\n      <td>nt hire ninja everyon need kill  italian</td>\n    </tr>\n  </tbody>\n</table>\n</div>",
      "text/plain": "                                                text  \\\n0  Can ninjas catch colds? I guess the better que...   \n1  Nope. We're faster than germs. So then yes, ni...   \n2  The only disease that a ninja is susceptible t...   \n3  There are two main categories of ninjas skills...   \n4  You don't hire ninjas for everyone you need to...   \n\n                                            prepared  \n0  ninja catch cold  guess better question would ...  \n1           nope  faster germ  ye  ninja catch cold   \n2         diseas ninja suscept saturday night fever   \n3  two main categori ninja skill  deadli possibl ...  \n4          nt hire ninja everyon need kill  italian   "
     },
     "execution_count": 14,
     "metadata": {},
     "output_type": "execute_result"
    }
   ],
   "source": [
    "df[\"prepared\"] = df.text.apply(prepareText)\n",
    "df"
   ]
  },
  {
   "cell_type": "markdown",
   "execution_count": null,
   "metadata": {},
   "outputs": [],
   "source": [
    "## Bag of Words für die Textspalte"
   ]
  },
  {
   "cell_type": "code",
   "execution_count": 20,
   "metadata": {},
   "outputs": [
    {
     "data": {
      "text/plain": "['and',\n 'are',\n 'be',\n 'better',\n 'can',\n 'catch',\n 'categories',\n 'colds',\n 'deadly',\n 'disease',\n 'don',\n 'everyone',\n 'faster',\n 'fever',\n 'for',\n 'germs',\n 'guess',\n 'hire',\n 'is',\n 'italians',\n 'kill',\n 'main',\n 'need',\n 'night',\n 'ninja',\n 'ninjas',\n 'nope',\n 'of',\n 'only',\n 'possibly',\n 'question',\n 're',\n 'saturday',\n 'skills',\n 'so',\n 'susceptible',\n 'than',\n 'that',\n 'the',\n 'then',\n 'there',\n 'to',\n 'two',\n 'we',\n 'what',\n 'would',\n 'yes',\n 'you']"
     },
     "execution_count": 20,
     "metadata": {},
     "output_type": "execute_result"
    }
   ],
   "source": [
    "count = CountVectorizer()\n",
    "bow = count.fit_transform(df[\"text\"])\n",
    "count.get_feature_names()\n"
   ]
  },
  {
   "cell_type": "code",
   "execution_count": 19,
   "metadata": {},
   "outputs": [
    {
     "data": {
      "text/html": "<div>\n<style scoped>\n    .dataframe tbody tr th:only-of-type {\n        vertical-align: middle;\n    }\n\n    .dataframe tbody tr th {\n        vertical-align: top;\n    }\n\n    .dataframe thead th {\n        text-align: right;\n    }\n</style>\n<table border=\"1\" class=\"dataframe\">\n  <thead>\n    <tr style=\"text-align: right;\">\n      <th></th>\n      <th>text</th>\n      <th>and</th>\n      <th>are</th>\n      <th>be</th>\n      <th>better</th>\n      <th>can</th>\n      <th>catch</th>\n      <th>categories</th>\n      <th>colds</th>\n      <th>deadly</th>\n      <th>...</th>\n      <th>the</th>\n      <th>then</th>\n      <th>there</th>\n      <th>to</th>\n      <th>two</th>\n      <th>we</th>\n      <th>what</th>\n      <th>would</th>\n      <th>yes</th>\n      <th>you</th>\n    </tr>\n  </thead>\n  <tbody>\n    <tr>\n      <th>0</th>\n      <td>Can ninjas catch colds? I guess the better que...</td>\n      <td>0</td>\n      <td>0</td>\n      <td>1</td>\n      <td>1</td>\n      <td>2</td>\n      <td>2</td>\n      <td>0</td>\n      <td>2</td>\n      <td>0</td>\n      <td>...</td>\n      <td>1</td>\n      <td>0</td>\n      <td>0</td>\n      <td>0</td>\n      <td>0</td>\n      <td>0</td>\n      <td>0</td>\n      <td>1</td>\n      <td>0</td>\n      <td>0</td>\n    </tr>\n    <tr>\n      <th>1</th>\n      <td>Nope. We're faster than germs. So then yes, ni...</td>\n      <td>0</td>\n      <td>0</td>\n      <td>0</td>\n      <td>0</td>\n      <td>1</td>\n      <td>1</td>\n      <td>0</td>\n      <td>1</td>\n      <td>0</td>\n      <td>...</td>\n      <td>0</td>\n      <td>1</td>\n      <td>0</td>\n      <td>0</td>\n      <td>0</td>\n      <td>1</td>\n      <td>0</td>\n      <td>0</td>\n      <td>1</td>\n      <td>0</td>\n    </tr>\n    <tr>\n      <th>2</th>\n      <td>The only disease that a ninja is susceptible t...</td>\n      <td>0</td>\n      <td>0</td>\n      <td>0</td>\n      <td>0</td>\n      <td>0</td>\n      <td>0</td>\n      <td>0</td>\n      <td>0</td>\n      <td>0</td>\n      <td>...</td>\n      <td>1</td>\n      <td>0</td>\n      <td>0</td>\n      <td>1</td>\n      <td>0</td>\n      <td>0</td>\n      <td>0</td>\n      <td>0</td>\n      <td>0</td>\n      <td>0</td>\n    </tr>\n    <tr>\n      <th>3</th>\n      <td>There are two main categories of ninjas skills...</td>\n      <td>1</td>\n      <td>1</td>\n      <td>0</td>\n      <td>0</td>\n      <td>0</td>\n      <td>0</td>\n      <td>1</td>\n      <td>0</td>\n      <td>2</td>\n      <td>...</td>\n      <td>0</td>\n      <td>0</td>\n      <td>1</td>\n      <td>0</td>\n      <td>1</td>\n      <td>0</td>\n      <td>0</td>\n      <td>0</td>\n      <td>0</td>\n      <td>0</td>\n    </tr>\n    <tr>\n      <th>4</th>\n      <td>You don't hire ninjas for everyone you need to...</td>\n      <td>0</td>\n      <td>1</td>\n      <td>0</td>\n      <td>0</td>\n      <td>0</td>\n      <td>0</td>\n      <td>0</td>\n      <td>0</td>\n      <td>0</td>\n      <td>...</td>\n      <td>0</td>\n      <td>0</td>\n      <td>0</td>\n      <td>1</td>\n      <td>0</td>\n      <td>0</td>\n      <td>1</td>\n      <td>0</td>\n      <td>0</td>\n      <td>2</td>\n    </tr>\n  </tbody>\n</table>\n<p>5 rows × 49 columns</p>\n</div>",
      "text/plain": "                                                text  and  are  be  better  \\\n0  Can ninjas catch colds? I guess the better que...    0    0   1       1   \n1  Nope. We're faster than germs. So then yes, ni...    0    0   0       0   \n2  The only disease that a ninja is susceptible t...    0    0   0       0   \n3  There are two main categories of ninjas skills...    1    1   0       0   \n4  You don't hire ninjas for everyone you need to...    0    1   0       0   \n\n   can  catch  categories  colds  deadly  ...  the  then  there  to  two  we  \\\n0    2      2           0      2       0  ...    1     0      0   0    0   0   \n1    1      1           0      1       0  ...    0     1      0   0    0   1   \n2    0      0           0      0       0  ...    1     0      0   1    0   0   \n3    0      0           1      0       2  ...    0     0      1   0    1   0   \n4    0      0           0      0       0  ...    0     0      0   1    0   0   \n\n   what  would  yes  you  \n0     0      1    0    0  \n1     0      0    1    0  \n2     0      0    0    0  \n3     0      0    0    0  \n4     1      0    0    2  \n\n[5 rows x 49 columns]"
     },
     "execution_count": 19,
     "metadata": {},
     "output_type": "execute_result"
    }
   ],
   "source": [
    "df2 = pd.DataFrame(bow.A, columns=count.get_feature_names())\n",
    "df2.insert(0, \"text\", df.text)\n",
    "df2\n"
   ]
  },
  {
   "cell_type": "markdown",
   "execution_count": 9,
   "metadata": {},
   "outputs": [],
   "source": [
    "## Bag of Words für die Prepared-Spalte"
   ]
  },
  {
   "cell_type": "code",
   "execution_count": 21,
   "metadata": {},
   "outputs": [
    {
     "data": {
      "text/plain": "['better',\n 'catch',\n 'categori',\n 'cold',\n 'deadli',\n 'diseas',\n 'everyon',\n 'faster',\n 'fever',\n 'germ',\n 'guess',\n 'hire',\n 'italian',\n 'kill',\n 'main',\n 'need',\n 'night',\n 'ninja',\n 'nope',\n 'nt',\n 'possibl',\n 'question',\n 'saturday',\n 'skill',\n 'suscept',\n 'two',\n 'would',\n 'ye']"
     },
     "execution_count": 21,
     "metadata": {},
     "output_type": "execute_result"
    }
   ],
   "source": [
    "count = CountVectorizer()\n",
    "bow = count.fit_transform(df[\"prepared\"])\n",
    "count.get_feature_names()\n"
   ]
  },
  {
   "cell_type": "code",
   "execution_count": 22,
   "metadata": {},
   "outputs": [
    {
     "data": {
      "text/html": "<div>\n<style scoped>\n    .dataframe tbody tr th:only-of-type {\n        vertical-align: middle;\n    }\n\n    .dataframe tbody tr th {\n        vertical-align: top;\n    }\n\n    .dataframe thead th {\n        text-align: right;\n    }\n</style>\n<table border=\"1\" class=\"dataframe\">\n  <thead>\n    <tr style=\"text-align: right;\">\n      <th></th>\n      <th>text</th>\n      <th>better</th>\n      <th>catch</th>\n      <th>categori</th>\n      <th>cold</th>\n      <th>deadli</th>\n      <th>diseas</th>\n      <th>everyon</th>\n      <th>faster</th>\n      <th>fever</th>\n      <th>...</th>\n      <th>nope</th>\n      <th>nt</th>\n      <th>possibl</th>\n      <th>question</th>\n      <th>saturday</th>\n      <th>skill</th>\n      <th>suscept</th>\n      <th>two</th>\n      <th>would</th>\n      <th>ye</th>\n    </tr>\n  </thead>\n  <tbody>\n    <tr>\n      <th>0</th>\n      <td>Can ninjas catch colds? I guess the better que...</td>\n      <td>1</td>\n      <td>2</td>\n      <td>0</td>\n      <td>2</td>\n      <td>0</td>\n      <td>0</td>\n      <td>0</td>\n      <td>0</td>\n      <td>0</td>\n      <td>...</td>\n      <td>0</td>\n      <td>0</td>\n      <td>0</td>\n      <td>1</td>\n      <td>0</td>\n      <td>0</td>\n      <td>0</td>\n      <td>0</td>\n      <td>1</td>\n      <td>0</td>\n    </tr>\n    <tr>\n      <th>1</th>\n      <td>Nope. We're faster than germs. So then yes, ni...</td>\n      <td>0</td>\n      <td>1</td>\n      <td>0</td>\n      <td>1</td>\n      <td>0</td>\n      <td>0</td>\n      <td>0</td>\n      <td>1</td>\n      <td>0</td>\n      <td>...</td>\n      <td>1</td>\n      <td>0</td>\n      <td>0</td>\n      <td>0</td>\n      <td>0</td>\n      <td>0</td>\n      <td>0</td>\n      <td>0</td>\n      <td>0</td>\n      <td>1</td>\n    </tr>\n    <tr>\n      <th>2</th>\n      <td>The only disease that a ninja is susceptible t...</td>\n      <td>0</td>\n      <td>0</td>\n      <td>0</td>\n      <td>0</td>\n      <td>0</td>\n      <td>1</td>\n      <td>0</td>\n      <td>0</td>\n      <td>1</td>\n      <td>...</td>\n      <td>0</td>\n      <td>0</td>\n      <td>0</td>\n      <td>0</td>\n      <td>1</td>\n      <td>0</td>\n      <td>1</td>\n      <td>0</td>\n      <td>0</td>\n      <td>0</td>\n    </tr>\n    <tr>\n      <th>3</th>\n      <td>There are two main categories of ninjas skills...</td>\n      <td>0</td>\n      <td>0</td>\n      <td>1</td>\n      <td>0</td>\n      <td>2</td>\n      <td>0</td>\n      <td>0</td>\n      <td>0</td>\n      <td>0</td>\n      <td>...</td>\n      <td>0</td>\n      <td>0</td>\n      <td>1</td>\n      <td>0</td>\n      <td>0</td>\n      <td>1</td>\n      <td>0</td>\n      <td>1</td>\n      <td>0</td>\n      <td>0</td>\n    </tr>\n    <tr>\n      <th>4</th>\n      <td>You don't hire ninjas for everyone you need to...</td>\n      <td>0</td>\n      <td>0</td>\n      <td>0</td>\n      <td>0</td>\n      <td>0</td>\n      <td>0</td>\n      <td>1</td>\n      <td>0</td>\n      <td>0</td>\n      <td>...</td>\n      <td>0</td>\n      <td>1</td>\n      <td>0</td>\n      <td>0</td>\n      <td>0</td>\n      <td>0</td>\n      <td>0</td>\n      <td>0</td>\n      <td>0</td>\n      <td>0</td>\n    </tr>\n  </tbody>\n</table>\n<p>5 rows × 29 columns</p>\n</div>",
      "text/plain": "                                                text  better  catch  categori  \\\n0  Can ninjas catch colds? I guess the better que...       1      2         0   \n1  Nope. We're faster than germs. So then yes, ni...       0      1         0   \n2  The only disease that a ninja is susceptible t...       0      0         0   \n3  There are two main categories of ninjas skills...       0      0         1   \n4  You don't hire ninjas for everyone you need to...       0      0         0   \n\n   cold  deadli  diseas  everyon  faster  fever  ...  nope  nt  possibl  \\\n0     2       0       0        0       0      0  ...     0   0        0   \n1     1       0       0        0       1      0  ...     1   0        0   \n2     0       0       1        0       0      1  ...     0   0        0   \n3     0       2       0        0       0      0  ...     0   0        1   \n4     0       0       0        1       0      0  ...     0   1        0   \n\n   question  saturday  skill  suscept  two  would  ye  \n0         1         0      0        0    0      1   0  \n1         0         0      0        0    0      0   1  \n2         0         1      0        1    0      0   0  \n3         0         0      1        0    1      0   0  \n4         0         0      0        0    0      0   0  \n\n[5 rows x 29 columns]"
     },
     "execution_count": 22,
     "metadata": {},
     "output_type": "execute_result"
    }
   ],
   "source": [
    "df3 = pd.DataFrame(bow.A, columns=count.get_feature_names())\n",
    "df3.insert(0, \"text\", df.text)\n",
    "df3\n"
   ]
  },
  {
   "cell_type": "code",
   "execution_count": null,
   "metadata": {},
   "outputs": [],
   "source": []
  }
 ]
}