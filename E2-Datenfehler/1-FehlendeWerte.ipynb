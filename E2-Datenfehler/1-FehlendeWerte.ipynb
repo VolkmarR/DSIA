{
 "nbformat": 4,
 "nbformat_minor": 2,
 "metadata": {
  "language_info": {
   "name": "python",
   "codemirror_mode": {
    "name": "ipython",
    "version": 3
   },
   "version": "3.7.4"
  },
  "orig_nbformat": 2,
  "file_extension": ".py",
  "mimetype": "text/x-python",
  "name": "python",
  "npconvert_exporter": "python",
  "pygments_lexer": "ipython3",
  "version": 3
 },
 "cells": [
  {
   "cell_type": "markdown",
   "execution_count": null,
   "metadata": {},
   "outputs": [],
   "source": [
    "# Datenfehler\n",
    "\n",
    "## Initialisierung"
   ]
  },
  {
   "cell_type": "code",
   "execution_count": 196,
   "metadata": {},
   "outputs": [],
   "source": [
    "import pandas as pd\n",
    "import numpy as np"
   ]
  },
  {
   "cell_type": "code",
   "execution_count": 197,
   "metadata": {},
   "outputs": [],
   "source": [
    "def dfTimeSeries():\n",
    "    df = pd.DataFrame(\n",
    "        { \"Datum\":  pd.date_range(start='1-1-2020', periods=10, freq=\"1D\"), \n",
    "        \"Werte\": [157.0, 142, 153, 161, 158, 149, 142, 138, 132, 136] })\n",
    "    df[\"WerteM\"] = df[\"Werte\"]\n",
    "    # Fehlende Werte erzeugen\n",
    "    df.at[2, \"WerteM\"] = np.NaN\n",
    "    df.at[5, \"WerteM\"] = np.NaN\n",
    "    df.at[6, \"WerteM\"] = np.NaN\n",
    "    df[\"Datum\"] = pd.to_datetime(df[\"Datum\"])\n",
    "    return df\n",
    "\n",
    "def dfStetigDiskret():\n",
    "    df = pd.DataFrame({\"Stetig\":[-50.0,-5,20,50,100], \"Diskret\": [1.0,2,1,2,2]})\n",
    "    df[\"StetigM\"] = df[\"Stetig\"]\n",
    "    df[\"DiskretM\"] = df[\"Diskret\"]\n",
    "    df.at[2, \"StetigM\"] = np.NaN\n",
    "    df.at[2, \"DiskretM\"] = np.NaN\n",
    "    return df\n",
    "\n",
    "def dfPersonen():\n",
    "    df = pd.DataFrame({\"Name\":[\"S1\", \"S2\", \"S3\", \"S4\", \"L1\", \"L2\"], \"Art\": [1, 1, 1, 1, 2, 2], \"Alter\": [10.0, 11, 10, 9, 35, 57]})\n",
    "    df[\"AlterM\"] = df[\"Alter\"]\n",
    "    df.at[2, \"AlterM\"] = np.NaN\n",
    "    return df\n",
    "\n"
   ]
  },
  {
   "cell_type": "code",
   "execution_count": null,
   "metadata": {},
   "outputs": [],
   "source": []
  },
  {
   "cell_type": "markdown",
   "execution_count": null,
   "metadata": {},
   "outputs": [],
   "source": [
    "## Analyse"
   ]
  },
  {
   "cell_type": "code",
   "execution_count": null,
   "metadata": {},
   "outputs": [],
   "source": []
  },
  {
   "cell_type": "code",
   "execution_count": null,
   "metadata": {},
   "outputs": [],
   "source": []
  },
  {
   "cell_type": "markdown",
   "execution_count": null,
   "metadata": {},
   "outputs": [],
   "source": [
    "## Datensätze entfernen"
   ]
  },
  {
   "cell_type": "code",
   "execution_count": 198,
   "metadata": {},
   "outputs": [
    {
     "data": {
      "text/html": "<div>\n<style scoped>\n    .dataframe tbody tr th:only-of-type {\n        vertical-align: middle;\n    }\n\n    .dataframe tbody tr th {\n        vertical-align: top;\n    }\n\n    .dataframe thead th {\n        text-align: right;\n    }\n</style>\n<table border=\"1\" class=\"dataframe\">\n  <thead>\n    <tr style=\"text-align: right;\">\n      <th></th>\n      <th>Datum</th>\n      <th>Werte</th>\n      <th>WerteM</th>\n    </tr>\n  </thead>\n  <tbody>\n    <tr>\n      <th>0</th>\n      <td>2020-01-01</td>\n      <td>157.0</td>\n      <td>157.0</td>\n    </tr>\n    <tr>\n      <th>1</th>\n      <td>2020-01-02</td>\n      <td>142.0</td>\n      <td>142.0</td>\n    </tr>\n    <tr>\n      <th>2</th>\n      <td>2020-01-03</td>\n      <td>153.0</td>\n      <td>NaN</td>\n    </tr>\n    <tr>\n      <th>3</th>\n      <td>2020-01-04</td>\n      <td>161.0</td>\n      <td>161.0</td>\n    </tr>\n    <tr>\n      <th>4</th>\n      <td>2020-01-05</td>\n      <td>158.0</td>\n      <td>158.0</td>\n    </tr>\n    <tr>\n      <th>5</th>\n      <td>2020-01-06</td>\n      <td>149.0</td>\n      <td>NaN</td>\n    </tr>\n    <tr>\n      <th>6</th>\n      <td>2020-01-07</td>\n      <td>142.0</td>\n      <td>NaN</td>\n    </tr>\n    <tr>\n      <th>7</th>\n      <td>2020-01-08</td>\n      <td>138.0</td>\n      <td>138.0</td>\n    </tr>\n    <tr>\n      <th>8</th>\n      <td>2020-01-09</td>\n      <td>132.0</td>\n      <td>132.0</td>\n    </tr>\n    <tr>\n      <th>9</th>\n      <td>2020-01-10</td>\n      <td>136.0</td>\n      <td>136.0</td>\n    </tr>\n  </tbody>\n</table>\n</div>",
      "text/plain": "       Datum  Werte  WerteM\n0 2020-01-01  157.0   157.0\n1 2020-01-02  142.0   142.0\n2 2020-01-03  153.0     NaN\n3 2020-01-04  161.0   161.0\n4 2020-01-05  158.0   158.0\n5 2020-01-06  149.0     NaN\n6 2020-01-07  142.0     NaN\n7 2020-01-08  138.0   138.0\n8 2020-01-09  132.0   132.0\n9 2020-01-10  136.0   136.0"
     },
     "execution_count": 198,
     "metadata": {},
     "output_type": "execute_result"
    }
   ],
   "source": [
    "df = dfTimeSeries()\n",
    "df\n"
   ]
  },
  {
   "cell_type": "code",
   "execution_count": 199,
   "metadata": {},
   "outputs": [
    {
     "data": {
      "text/html": "<div>\n<style scoped>\n    .dataframe tbody tr th:only-of-type {\n        vertical-align: middle;\n    }\n\n    .dataframe tbody tr th {\n        vertical-align: top;\n    }\n\n    .dataframe thead th {\n        text-align: right;\n    }\n</style>\n<table border=\"1\" class=\"dataframe\">\n  <thead>\n    <tr style=\"text-align: right;\">\n      <th></th>\n      <th>Datum</th>\n      <th>Werte</th>\n      <th>WerteM</th>\n    </tr>\n  </thead>\n  <tbody>\n    <tr>\n      <th>0</th>\n      <td>2020-01-01</td>\n      <td>157.0</td>\n      <td>157.0</td>\n    </tr>\n    <tr>\n      <th>1</th>\n      <td>2020-01-02</td>\n      <td>142.0</td>\n      <td>142.0</td>\n    </tr>\n    <tr>\n      <th>3</th>\n      <td>2020-01-04</td>\n      <td>161.0</td>\n      <td>161.0</td>\n    </tr>\n    <tr>\n      <th>4</th>\n      <td>2020-01-05</td>\n      <td>158.0</td>\n      <td>158.0</td>\n    </tr>\n    <tr>\n      <th>7</th>\n      <td>2020-01-08</td>\n      <td>138.0</td>\n      <td>138.0</td>\n    </tr>\n    <tr>\n      <th>8</th>\n      <td>2020-01-09</td>\n      <td>132.0</td>\n      <td>132.0</td>\n    </tr>\n    <tr>\n      <th>9</th>\n      <td>2020-01-10</td>\n      <td>136.0</td>\n      <td>136.0</td>\n    </tr>\n  </tbody>\n</table>\n</div>",
      "text/plain": "       Datum  Werte  WerteM\n0 2020-01-01  157.0   157.0\n1 2020-01-02  142.0   142.0\n3 2020-01-04  161.0   161.0\n4 2020-01-05  158.0   158.0\n7 2020-01-08  138.0   138.0\n8 2020-01-09  132.0   132.0\n9 2020-01-10  136.0   136.0"
     },
     "execution_count": 199,
     "metadata": {},
     "output_type": "execute_result"
    }
   ],
   "source": [
    "df = df.dropna()\n",
    "df"
   ]
  },
  {
   "cell_type": "markdown",
   "execution_count": null,
   "metadata": {},
   "outputs": [],
   "source": [
    "## Konstanter Wert"
   ]
  },
  {
   "cell_type": "code",
   "execution_count": 200,
   "metadata": {},
   "outputs": [
    {
     "data": {
      "text/html": "<div>\n<style scoped>\n    .dataframe tbody tr th:only-of-type {\n        vertical-align: middle;\n    }\n\n    .dataframe tbody tr th {\n        vertical-align: top;\n    }\n\n    .dataframe thead th {\n        text-align: right;\n    }\n</style>\n<table border=\"1\" class=\"dataframe\">\n  <thead>\n    <tr style=\"text-align: right;\">\n      <th></th>\n      <th>Stetig</th>\n      <th>Diskret</th>\n      <th>StetigM</th>\n      <th>DiskretM</th>\n      <th>StetigKonst</th>\n      <th>DiskretKonst</th>\n    </tr>\n  </thead>\n  <tbody>\n    <tr>\n      <th>0</th>\n      <td>-50.0</td>\n      <td>1.0</td>\n      <td>-50.0</td>\n      <td>1.0</td>\n      <td>-50.0</td>\n      <td>1</td>\n    </tr>\n    <tr>\n      <th>1</th>\n      <td>-5.0</td>\n      <td>2.0</td>\n      <td>-5.0</td>\n      <td>2.0</td>\n      <td>-5.0</td>\n      <td>2</td>\n    </tr>\n    <tr>\n      <th>2</th>\n      <td>20.0</td>\n      <td>1.0</td>\n      <td>NaN</td>\n      <td>NaN</td>\n      <td>0.0</td>\n      <td>1</td>\n    </tr>\n    <tr>\n      <th>3</th>\n      <td>50.0</td>\n      <td>2.0</td>\n      <td>50.0</td>\n      <td>2.0</td>\n      <td>50.0</td>\n      <td>2</td>\n    </tr>\n    <tr>\n      <th>4</th>\n      <td>100.0</td>\n      <td>2.0</td>\n      <td>100.0</td>\n      <td>2.0</td>\n      <td>100.0</td>\n      <td>2</td>\n    </tr>\n  </tbody>\n</table>\n</div>",
      "text/plain": "   Stetig  Diskret  StetigM  DiskretM  StetigKonst  DiskretKonst\n0   -50.0      1.0    -50.0       1.0        -50.0             1\n1    -5.0      2.0     -5.0       2.0         -5.0             2\n2    20.0      1.0      NaN       NaN          0.0             1\n3    50.0      2.0     50.0       2.0         50.0             2\n4   100.0      2.0    100.0       2.0        100.0             2"
     },
     "execution_count": 200,
     "metadata": {},
     "output_type": "execute_result"
    }
   ],
   "source": [
    "df = dfStetigDiskret()\n",
    "df[\"StetigKonst\"] = df[\"StetigM\"].fillna(0)\n",
    "df[\"DiskretKonst\"] = df[\"DiskretM\"].fillna(1).astype('Int64')\n",
    "df"
   ]
  },
  {
   "cell_type": "markdown",
   "execution_count": null,
   "metadata": {},
   "outputs": [],
   "source": [
    "## Mittelwert, Median"
   ]
  },
  {
   "cell_type": "code",
   "execution_count": 201,
   "metadata": {},
   "outputs": [
    {
     "data": {
      "text/html": "<div>\n<style scoped>\n    .dataframe tbody tr th:only-of-type {\n        vertical-align: middle;\n    }\n\n    .dataframe tbody tr th {\n        vertical-align: top;\n    }\n\n    .dataframe thead th {\n        text-align: right;\n    }\n</style>\n<table border=\"1\" class=\"dataframe\">\n  <thead>\n    <tr style=\"text-align: right;\">\n      <th></th>\n      <th>Stetig</th>\n      <th>StetigM</th>\n      <th>StetigMean</th>\n      <th>StetigMedian</th>\n    </tr>\n  </thead>\n  <tbody>\n    <tr>\n      <th>0</th>\n      <td>-50.0</td>\n      <td>-50.0</td>\n      <td>-50.00</td>\n      <td>-50.0</td>\n    </tr>\n    <tr>\n      <th>1</th>\n      <td>-5.0</td>\n      <td>-5.0</td>\n      <td>-5.00</td>\n      <td>-5.0</td>\n    </tr>\n    <tr>\n      <th>2</th>\n      <td>20.0</td>\n      <td>NaN</td>\n      <td>23.75</td>\n      <td>22.5</td>\n    </tr>\n    <tr>\n      <th>3</th>\n      <td>50.0</td>\n      <td>50.0</td>\n      <td>50.00</td>\n      <td>50.0</td>\n    </tr>\n    <tr>\n      <th>4</th>\n      <td>100.0</td>\n      <td>100.0</td>\n      <td>100.00</td>\n      <td>100.0</td>\n    </tr>\n  </tbody>\n</table>\n</div>",
      "text/plain": "   Stetig  StetigM  StetigMean  StetigMedian\n0   -50.0    -50.0      -50.00         -50.0\n1    -5.0     -5.0       -5.00          -5.0\n2    20.0      NaN       23.75          22.5\n3    50.0     50.0       50.00          50.0\n4   100.0    100.0      100.00         100.0"
     },
     "execution_count": 201,
     "metadata": {},
     "output_type": "execute_result"
    }
   ],
   "source": [
    "df = dfStetigDiskret()\n",
    "df.drop(columns=[\"Diskret\", \"DiskretM\"], inplace=True)\n",
    "StetigMean = df[\"StetigM\"].mean()\n",
    "StetigMedian = df[\"StetigM\"].median()\n",
    "df[\"StetigMean\"] = df[\"StetigM\"].fillna(StetigMean)\n",
    "df[\"StetigMedian\"] = df[\"StetigM\"].fillna(StetigMedian)\n",
    "df\n"
   ]
  },
  {
   "cell_type": "markdown",
   "execution_count": null,
   "metadata": {},
   "outputs": [],
   "source": [
    "## Modus"
   ]
  },
  {
   "cell_type": "code",
   "execution_count": 202,
   "metadata": {},
   "outputs": [
    {
     "data": {
      "text/html": "<div>\n<style scoped>\n    .dataframe tbody tr th:only-of-type {\n        vertical-align: middle;\n    }\n\n    .dataframe tbody tr th {\n        vertical-align: top;\n    }\n\n    .dataframe thead th {\n        text-align: right;\n    }\n</style>\n<table border=\"1\" class=\"dataframe\">\n  <thead>\n    <tr style=\"text-align: right;\">\n      <th></th>\n      <th>Diskret</th>\n      <th>DiskretM</th>\n      <th>DiskretMode</th>\n    </tr>\n  </thead>\n  <tbody>\n    <tr>\n      <th>0</th>\n      <td>1.0</td>\n      <td>1.0</td>\n      <td>1</td>\n    </tr>\n    <tr>\n      <th>1</th>\n      <td>2.0</td>\n      <td>2.0</td>\n      <td>2</td>\n    </tr>\n    <tr>\n      <th>2</th>\n      <td>1.0</td>\n      <td>NaN</td>\n      <td>2</td>\n    </tr>\n    <tr>\n      <th>3</th>\n      <td>2.0</td>\n      <td>2.0</td>\n      <td>2</td>\n    </tr>\n    <tr>\n      <th>4</th>\n      <td>2.0</td>\n      <td>2.0</td>\n      <td>2</td>\n    </tr>\n  </tbody>\n</table>\n</div>",
      "text/plain": "   Diskret  DiskretM  DiskretMode\n0      1.0       1.0            1\n1      2.0       2.0            2\n2      1.0       NaN            2\n3      2.0       2.0            2\n4      2.0       2.0            2"
     },
     "execution_count": 202,
     "metadata": {},
     "output_type": "execute_result"
    }
   ],
   "source": [
    "df = dfStetigDiskret()\n",
    "df.drop(columns=[\"Stetig\", \"StetigM\"], inplace=True)\n",
    "DiskretMode = df[\"DiskretM\"].mode()\n",
    "df[\"DiskretMode\"] = df[\"DiskretM\"].fillna(DiskretMode[0]).astype('Int64')\n",
    "df\n"
   ]
  },
  {
   "cell_type": "markdown",
   "execution_count": null,
   "metadata": {},
   "outputs": [],
   "source": [
    "## Zeitreihen"
   ]
  },
  {
   "cell_type": "code",
   "execution_count": 203,
   "metadata": {},
   "outputs": [
    {
     "data": {
      "text/html": "<div>\n<style scoped>\n    .dataframe tbody tr th:only-of-type {\n        vertical-align: middle;\n    }\n\n    .dataframe tbody tr th {\n        vertical-align: top;\n    }\n\n    .dataframe thead th {\n        text-align: right;\n    }\n</style>\n<table border=\"1\" class=\"dataframe\">\n  <thead>\n    <tr style=\"text-align: right;\">\n      <th></th>\n      <th>Datum</th>\n      <th>Werte</th>\n      <th>WerteM</th>\n      <th>LCOF</th>\n      <th>NOCB</th>\n      <th>Interpol</th>\n    </tr>\n  </thead>\n  <tbody>\n    <tr>\n      <th>0</th>\n      <td>2020-01-01</td>\n      <td>157.0</td>\n      <td>157.0</td>\n      <td>157.0</td>\n      <td>157.0</td>\n      <td>157.000000</td>\n    </tr>\n    <tr>\n      <th>1</th>\n      <td>2020-01-02</td>\n      <td>142.0</td>\n      <td>142.0</td>\n      <td>142.0</td>\n      <td>142.0</td>\n      <td>142.000000</td>\n    </tr>\n    <tr>\n      <th>2</th>\n      <td>2020-01-03</td>\n      <td>153.0</td>\n      <td>NaN</td>\n      <td>142.0</td>\n      <td>161.0</td>\n      <td>151.500000</td>\n    </tr>\n    <tr>\n      <th>3</th>\n      <td>2020-01-04</td>\n      <td>161.0</td>\n      <td>161.0</td>\n      <td>161.0</td>\n      <td>161.0</td>\n      <td>161.000000</td>\n    </tr>\n    <tr>\n      <th>4</th>\n      <td>2020-01-05</td>\n      <td>158.0</td>\n      <td>158.0</td>\n      <td>158.0</td>\n      <td>158.0</td>\n      <td>158.000000</td>\n    </tr>\n    <tr>\n      <th>5</th>\n      <td>2020-01-06</td>\n      <td>149.0</td>\n      <td>NaN</td>\n      <td>158.0</td>\n      <td>138.0</td>\n      <td>151.333333</td>\n    </tr>\n    <tr>\n      <th>6</th>\n      <td>2020-01-07</td>\n      <td>142.0</td>\n      <td>NaN</td>\n      <td>158.0</td>\n      <td>138.0</td>\n      <td>144.666667</td>\n    </tr>\n    <tr>\n      <th>7</th>\n      <td>2020-01-08</td>\n      <td>138.0</td>\n      <td>138.0</td>\n      <td>138.0</td>\n      <td>138.0</td>\n      <td>138.000000</td>\n    </tr>\n    <tr>\n      <th>8</th>\n      <td>2020-01-09</td>\n      <td>132.0</td>\n      <td>132.0</td>\n      <td>132.0</td>\n      <td>132.0</td>\n      <td>132.000000</td>\n    </tr>\n    <tr>\n      <th>9</th>\n      <td>2020-01-10</td>\n      <td>136.0</td>\n      <td>136.0</td>\n      <td>136.0</td>\n      <td>136.0</td>\n      <td>136.000000</td>\n    </tr>\n  </tbody>\n</table>\n</div>",
      "text/plain": "       Datum  Werte  WerteM   LCOF   NOCB    Interpol\n0 2020-01-01  157.0   157.0  157.0  157.0  157.000000\n1 2020-01-02  142.0   142.0  142.0  142.0  142.000000\n2 2020-01-03  153.0     NaN  142.0  161.0  151.500000\n3 2020-01-04  161.0   161.0  161.0  161.0  161.000000\n4 2020-01-05  158.0   158.0  158.0  158.0  158.000000\n5 2020-01-06  149.0     NaN  158.0  138.0  151.333333\n6 2020-01-07  142.0     NaN  158.0  138.0  144.666667\n7 2020-01-08  138.0   138.0  138.0  138.0  138.000000\n8 2020-01-09  132.0   132.0  132.0  132.0  132.000000\n9 2020-01-10  136.0   136.0  136.0  136.0  136.000000"
     },
     "execution_count": 203,
     "metadata": {},
     "output_type": "execute_result"
    }
   ],
   "source": [
    "df = dfTimeSeries()\n",
    "df[\"LCOF\"] =  df[\"WerteM\"]\n",
    "df[\"NOCB\"] =  df[\"WerteM\"]\n",
    "df[\"Interpol\"] =  df[\"WerteM\"]\n",
    "df[\"LCOF\"].fillna(method='ffill', inplace=True)\n",
    "df[\"NOCB\"].fillna(method='backfill', inplace=True)\n",
    "df[\"Interpol\"].interpolate(method=\"linear\", inplace=True)\n",
    "\n",
    "# df[df[\"WerteM\"].isnull()]\n",
    "df\n"
   ]
  },
  {
   "cell_type": "markdown",
   "execution_count": null,
   "metadata": {},
   "outputs": [],
   "source": [
    "## Median Teilgruppen"
   ]
  },
  {
   "cell_type": "code",
   "execution_count": 204,
   "metadata": {},
   "outputs": [
    {
     "data": {
      "text/html": "<div>\n<style scoped>\n    .dataframe tbody tr th:only-of-type {\n        vertical-align: middle;\n    }\n\n    .dataframe tbody tr th {\n        vertical-align: top;\n    }\n\n    .dataframe thead th {\n        text-align: right;\n    }\n</style>\n<table border=\"1\" class=\"dataframe\">\n  <thead>\n    <tr style=\"text-align: right;\">\n      <th></th>\n      <th>Name</th>\n      <th>Art</th>\n      <th>Alter</th>\n      <th>AlterM</th>\n      <th>AlterMeanFull</th>\n      <th>AlterMeanPart</th>\n    </tr>\n  </thead>\n  <tbody>\n    <tr>\n      <th>2</th>\n      <td>S3</td>\n      <td>1</td>\n      <td>10.0</td>\n      <td>NaN</td>\n      <td>24.4</td>\n      <td>10.0</td>\n    </tr>\n  </tbody>\n</table>\n</div>",
      "text/plain": "  Name  Art  Alter  AlterM  AlterMeanFull  AlterMeanPart\n2   S3    1   10.0     NaN           24.4           10.0"
     },
     "execution_count": 204,
     "metadata": {},
     "output_type": "execute_result"
    }
   ],
   "source": [
    "df = dfPersonen()\n",
    "df[\"AlterMeanFull\"] = df[\"AlterM\"].fillna(df[\"AlterM\"].mean())\n",
    "df[\"AlterMeanPart\"] = df[\"AlterM\"]\n",
    "\n",
    "for art in df[\"Art\"].unique():\n",
    "    dfArt = df[\"Art\"] == art\n",
    "    dfArtNaN = dfArt & df[\"AlterMeanPart\"].isnull()\n",
    "\n",
    "    median = df[dfArt][\"AlterMeanPart\"].median()\n",
    "    df.loc[dfArtNaN, \"AlterMeanPart\"] = median\n",
    "\n",
    "# df\n",
    "df[df[\"AlterM\"].isnull()]"
   ]
  },
  {
   "cell_type": "code",
   "execution_count": null,
   "metadata": {},
   "outputs": [],
   "source": []
  },
  {
   "cell_type": "code",
   "execution_count": null,
   "metadata": {},
   "outputs": [],
   "source": []
  },
  {
   "cell_type": "code",
   "execution_count": null,
   "metadata": {},
   "outputs": [],
   "source": []
  }
 ]
}